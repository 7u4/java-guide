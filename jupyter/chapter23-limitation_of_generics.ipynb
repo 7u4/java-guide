{
  "cells": [{
  "cell_type": "markdown",
  "metadata": {},
  "source": ["# Limitations of generics\n"]
}
,
{
  "cell_type": "markdown",
  "metadata": {},
  "source": ["## No reification\n"]
}
,
{
  "cell_type": "code",
  "execution_count": null,
  "metadata": {},
  "outputs": [],
  "source": ["In Java, generics are purely a compiler construct, the type arguments of a generics\n", "are not available at runtime. \n"]
}
,
{
  "cell_type": "code",
  "execution_count": null,
  "metadata": {},
  "outputs": [],
  "source": ["For a type variable (`T`, `E`, etc), the actual value at the execution, the type argument\n", "is not present at runtime. For a parameterized type (`List&gt;String&lt;`\n"]
}
,
{
  "cell_type": "code",
  "execution_count": null,
  "metadata": {},
  "outputs": [],
  "source": ["- instanceof \n", "- cast\n", "- \n", "- array creation\n"]
}
,
{
  "cell_type": "markdown",
  "metadata": {},
  "source": ["## Array of parameterized type\n", "Arrays are covariant in Java, it means that you can always consider an\n", "array of a subtype as an array of supertype,\n", "By example, see an array of String as an array of Object\n"]
}
,
{
  "cell_type": "code",
  "execution_count": null,
  "metadata": {},
  "outputs": [],
  "source": ["String[] stringArray = new String[] { \"hello\", \"array\" };\n", "Object[] objectArray = stringArray;\n"]
}
,
{
  "cell_type": "markdown",
  "metadata": {},
  "source": ["This is the same reference seen as a String[] or Object[]\n"]
}
,
{
  "cell_type": "code",
  "execution_count": null,
  "metadata": {},
  "outputs": [],
  "source": ["System.out.println(objectArray == stringArray);\n"]
}
,
{
  "cell_type": "markdown",
  "metadata": {},
  "source": ["At compile time, objectArray is a Object[] but at runtime it's a String[]\n"]
}
,
{
  "cell_type": "code",
  "execution_count": null,
  "metadata": {},
  "outputs": [],
  "source": ["System.out.println(objectArray[0]);\n"]
}
,
{
  "cell_type": "markdown",
  "metadata": {},
  "source": ["In fact, this is a nonsense, because you can store an object inside a Object[]\n", "but not inside a String[], so the Java compiler let you write code that will\n", "fail at runtime\n"]
}
,
{
  "cell_type": "markdown",
  "metadata": {},
  "source": ["The code below compiles because objectArray[0] is an Object, and 3 can be\n", "seen as an Integer. But at runtime, objectArray is a String[] and\n", "you can not assign an Integer to a String, so you get an ArrayStoreException\n"]
}
,
{
  "cell_type": "code",
  "execution_count": null,
  "metadata": {},
  "outputs": [],
  "source": ["objectArray[0] = 3;   // ArrayStoreException\n"]
}
,
{
  "cell_type": "markdown",
  "metadata": {},
  "source": ["In practice, this code is occurs rarely, if you consider a String[] as a Object[],\n", "usually, it's for getting the value out of the array not to change the value of\n", "the array. Anyway, it's unsafe.\n"]
}
,
{
  "cell_type": "markdown",
  "metadata": {},
  "source": ["### varargs\n"]
}
],
  "metadata": {
    "kernelspec": {
      "display_name": "Java",
      "language": "java",
      "name": "java"
    },
    "language_info": {
      "codemirror_mode": "java",
      "file_extension": ".java",
      "mimetype": "text/x-java-source",
      "name": "Java",
      "pygments_lexer": "java",
      "version": "15"
    }
  },
  "nbformat": 4,
  "nbformat_minor": 2
}


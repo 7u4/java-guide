{
  "cells": [{
  "cell_type": "markdown",
  "metadata": {},
  "source": ["# Limitations of generics\n"]
}
,
{
  "cell_type": "markdown",
  "metadata": {},
  "source": ["## No reification\n"]
}
,
{
  "cell_type": "markdown",
  "metadata": {},
  "source": ["In Java, generics are purely a compiler construct, the type arguments of a generics\n", "are not available at runtime. \n", "- for a type variable (`T`, `E`, etc), the actual value at the execution, the type argument is not present at runtime. \n", "- for a parameterized type (`List&gt;String&lt;`) the type argument (`String` here) is not available too\n"]
}
,
{
  "cell_type": "markdown",
  "metadata": {},
  "source": ["### No type argument\n"]
}
,
{
  "cell_type": "markdown",
  "metadata": {},
  "source": ["Which means that all operations that requires the type argument at runtime doesn't work.\n", "So the compiler doesn't allow you to write\n", "- `new T(...)` \n", "- `new T[5]`\n", "- `instanceof T` and `instanceof Foo<String>`\n", "- `catch(T ..)` and `catch(Foo<String>)`, moreover \n"]
}
,
{
  "cell_type": "markdown",
  "metadata": {},
  "source": ["### Unchecked Warnings\n"]
}
,
{
  "cell_type": "markdown",
  "metadata": {},
  "source": ["You can still write a cast like `(T)` or `(Foo<String>)`,\n", "but the complier will warn you that this is not a safe cast.\n"]
}
,
{
  "cell_type": "markdown",
  "metadata": {},
  "source": ["An example of cast that works\n"]
}
,
{
  "cell_type": "code",
  "execution_count": null,
  "metadata": {},
  "outputs": [],
  "source": ["List<Object> objectList = List.of(\"foo\", \"bar\");\n", "List<String> stringList = (List<String>) (List<?>) objectList; // warning, this is dangerous\n", "                                                               // but it works in practice\n"]
}
,
{
  "cell_type": "markdown",
  "metadata": {},
  "source": ["An example of cast that doesn't work\n"]
}
,
{
  "cell_type": "code",
  "execution_count": null,
  "metadata": {},
  "outputs": [],
  "source": ["List<String> stringList = new ArrayList<>();\n", "stringList.add(\"foo\");\n", "List<Object> objectList = (List<Object>) (List<?>) stringList; // dangerous, don't work !\n", "objectList.add(4321);\n", "System.out.println(stringList.get(1));               // fail at runtime\n"]
}
,
{
  "cell_type": "markdown",
  "metadata": {},
  "source": ["Hopefully, those casts are rare in practice because casts in general are rare\n", "mostly because if you have a cast it means that you have lost the type at some point.\n"]
}
,
{
  "cell_type": "markdown",
  "metadata": {},
  "source": ["## Array of parameterized type\n", "Arrays are covariant in Java, it means that you can always consider an\n", "array of a subtype as an array of supertype,\n", "By example, see an array of String as an array of Object\n"]
}
,
{
  "cell_type": "code",
  "execution_count": null,
  "metadata": {},
  "outputs": [],
  "source": ["String[] stringArray = new String[] { \"hello\", \"array\" };\n", "Object[] objectArray = stringArray;\n"]
}
,
{
  "cell_type": "markdown",
  "metadata": {},
  "source": ["This is the same reference seen as a String[] or Object[]\n"]
}
,
{
  "cell_type": "code",
  "execution_count": null,
  "metadata": {},
  "outputs": [],
  "source": ["System.out.println(objectArray == stringArray);\n"]
}
,
{
  "cell_type": "markdown",
  "metadata": {},
  "source": ["At compile time, objectArray is a Object[] but at runtime it's a String[]\n"]
}
,
{
  "cell_type": "code",
  "execution_count": null,
  "metadata": {},
  "outputs": [],
  "source": ["System.out.println(objectArray[0]);\n"]
}
,
{
  "cell_type": "markdown",
  "metadata": {},
  "source": ["In fact, this is a nonsense, because you can store an object inside a Object[]\n", "but not inside a String[], so the Java compiler let you write code that will\n", "fail at runtime\n"]
}
,
{
  "cell_type": "markdown",
  "metadata": {},
  "source": ["The code below compiles because objectArray[0] is an Object, and 3 can be\n", "seen as an Integer. But at runtime, objectArray is a String[] and\n", "you can not assign an Integer to a String, so you get an ArrayStoreException\n"]
}
,
{
  "cell_type": "code",
  "execution_count": null,
  "metadata": {},
  "outputs": [],
  "source": ["objectArray[0] = 3;   // ArrayStoreException\n"]
}
,
{
  "cell_type": "markdown",
  "metadata": {},
  "source": ["In practice, this code is occurs rarely, if you consider a String[] as a Object[],\n", "usually, it's for getting the value out of the array not to change the value of\n", "the array. Anyway, it's unsafe.\n"]
}
,
{
  "cell_type": "markdown",
  "metadata": {},
  "source": ["### varargs\n"]
}
],
  "metadata": {
    "kernelspec": {
      "display_name": "Java",
      "language": "java",
      "name": "java"
    },
    "language_info": {
      "codemirror_mode": "java",
      "file_extension": ".java",
      "mimetype": "text/x-java-source",
      "name": "Java",
      "pygments_lexer": "java",
      "version": "15"
    }
  },
  "nbformat": 4,
  "nbformat_minor": 2
}


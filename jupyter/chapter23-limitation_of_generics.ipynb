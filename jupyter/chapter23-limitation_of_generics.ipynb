{
  "cells": [{
  "cell_type": "markdown",
  "metadata": {},
  "source": []
}
,
{
  "cell_type": "markdown",
  "metadata": {},
  "source": ["# Limitations of generics\n"]
}
,
{
  "cell_type": "markdown",
  "metadata": {},
  "source": ["## No reification\n"]
}
,
{
  "cell_type": "markdown",
  "metadata": {},
  "source": ["## Array of parameterized type\n"]
}
,
{
  "cell_type": "markdown",
  "metadata": {},
  "source": ["### varargs\n"]
}
],
  "metadata": {
    "kernelspec": {
      "display_name": "Java",
      "language": "java",
      "name": "java"
    },
    "language_info": {
      "codemirror_mode": "java",
      "file_extension": ".java",
      "mimetype": "text/x-java-source",
      "name": "Java",
      "pygments_lexer": "java",
      "version": "15"
    }
  },
  "nbformat": 4,
  "nbformat_minor": 2
}


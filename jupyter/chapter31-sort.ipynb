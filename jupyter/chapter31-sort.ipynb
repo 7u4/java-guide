{
  "cells": [{
  "cell_type": "markdown",
  "metadata": {},
  "source": ["let's say i want to create a library of book,\n", "so i will declare a record Book and a record Library that stores the books has a list\n"]
}
],
  "metadata": {
    "kernelspec": {
      "display_name": "Java",
      "language": "java",
      "name": "java"
    },
    "language_info": {
      "codemirror_mode": "java",
      "file_extension": ".java",
      "mimetype": "text/x-java-source",
      "name": "Java",
      "pygments_lexer": "java",
      "version": "15"
    }
  },
  "nbformat": 4,
  "nbformat_minor": 2
}


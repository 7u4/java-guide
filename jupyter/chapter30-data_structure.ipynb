{
  "cells": [{
  "cell_type": "markdown",
  "metadata": {},
  "source": []
}
,
{
  "cell_type": "markdown",
  "metadata": {},
  "source": ["In Java, there are already plenty of data structures already available\n", "there are grouped under the name the collection API.\n"]
}
,
{
  "cell_type": "markdown",
  "metadata": {},
  "source": ["to create a simple list\n"]
}
,
{
  "cell_type": "code",
  "execution_count": null,
  "metadata": {},
  "outputs": [],
  "source": ["var list = List.of(1, 2, 3);\n"]
}
,
{
  "cell_type": "markdown",
  "metadata": {},
  "source": ["a list is an indexed data structure that stores object in the order of insertions\n", "get() access to an element given an index\n"]
}
,
{
  "cell_type": "code",
  "execution_count": null,
  "metadata": {},
  "outputs": [],
  "source": ["var firstElement = list.get(0);\n", "var lastElement = list.get(list.size() - 1);\n"]
}
,
{
  "cell_type": "markdown",
  "metadata": {},
  "source": ["contains return true if a value is contained in the list\n"]
}
,
{
  "cell_type": "code",
  "execution_count": null,
  "metadata": {},
  "outputs": [],
  "source": ["System.out.println(list.contains(4));\n"]
}
,
{
  "cell_type": "markdown",
  "metadata": {},
  "source": ["indexOf returns the first index of the element in the list\n"]
}
,
{
  "cell_type": "code",
  "execution_count": null,
  "metadata": {},
  "outputs": [],
  "source": ["System.out.println(list.indexOf(2));\n"]
}
,
{
  "cell_type": "markdown",
  "metadata": {},
  "source": ["to loop over the elements of a list, we have a special syntax using the keyword 'for'\n"]
}
,
{
  "cell_type": "code",
  "execution_count": null,
  "metadata": {},
  "outputs": [],
  "source": ["var countries = List.of('UK', 'US', 'France');\n", "for(var country: countries) {\n", "  System.out.println(country);\n", "}\n"]
}
,
{
  "cell_type": "markdown",
  "metadata": {},
  "source": ["you can also loop over the elements using a method forEach\n", "if you don't understand this one, don't panic, we will see it later\n"]
}
,
{
  "cell_type": "code",
  "execution_count": null,
  "metadata": {},
  "outputs": [],
  "source": ["countries.forEach(country -> System.out.println(country));\n"]
}
,
{
  "cell_type": "markdown",
  "metadata": {},
  "source": ["a list also defines the method equals() and toString(), so\n", "you can print a list or test if two list are equals\n"]
}
,
{
  "cell_type": "code",
  "execution_count": null,
  "metadata": {},
  "outputs": [],
  "source": ["System.out.println(countries);\n", "System.out.println(list.equals(countries));\n"]
}
,
{
  "cell_type": "markdown",
  "metadata": {},
  "source": ["in Java, depending on how you create a collection it can be changed\n", "after creation or not. Implementation that allow mutation after creation\n", "are called modifiable\n"]
}
,
{
  "cell_type": "markdown",
  "metadata": {},
  "source": ["by example, the list above (created with the static method of()) is not modifiable\n"]
}
,
{
  "cell_type": "code",
  "execution_count": null,
  "metadata": {},
  "outputs": [],
  "source": ["//countries.set(0, 'Poland')  // throws an UnsupportedOperationException\n"]
}
,
{
  "cell_type": "markdown",
  "metadata": {},
  "source": ["To create a modifiable list, we use an ArrayList, created using the operator 'new'\n", "here because there is no element in the list, the compiler has no way to know\n", "the type of the elements so we have to provide it in between angle brackets ('<' and '>')\n"]
}
,
{
  "cell_type": "code",
  "execution_count": null,
  "metadata": {},
  "outputs": [],
  "source": ["var modifiableCountries = new ArrayList<String>();\n"]
}
,
{
  "cell_type": "markdown",
  "metadata": {},
  "source": ["To add elements in a list, we have the method add()\n"]
}
,
{
  "cell_type": "code",
  "execution_count": null,
  "metadata": {},
  "outputs": [],
  "source": ["modifiableCountries.add(\"UK\");\n", "modifiableCountries.add(\"US\");\n", "modifiableCountries.add(\"France\");\n", "modifiableCountries.add(\"Poland\");\n"]
}
,
{
  "cell_type": "markdown",
  "metadata": {},
  "source": ["to remove an element, we have the method remove()\n"]
}
,
{
  "cell_type": "code",
  "execution_count": null,
  "metadata": {},
  "outputs": [],
  "source": ["modifiableCountries.remove(\"UK\");\n"]
}
,
{
  "cell_type": "markdown",
  "metadata": {},
  "source": ["an unmodifiable list or a modifiable list have the same set of methods,\n", "so you can loop over the modiable list the same way\n"]
}
,
{
  "cell_type": "code",
  "execution_count": null,
  "metadata": {},
  "outputs": [],
  "source": ["for(var country: modifiableCountries) {\n", "  System.out.println(country);\n", "}\n"]
}
,
{
  "cell_type": "markdown",
  "metadata": {},
  "source": ["You can create a modifiable list from an unmodifiable one using new ArrayList\n", "with the unmodifiable list as argument\n", "In that case you don't have to specify the type of the elements\n", "the compiler already knows the type of list hence the <> (diamond)\n"]
}
,
{
  "cell_type": "code",
  "execution_count": null,
  "metadata": {},
  "outputs": [],
  "source": ["var modifiableList = new ArrayList<>(list);\n", "System.out.println(modifiableList);\n"]
}
,
{
  "cell_type": "markdown",
  "metadata": {},
  "source": ["Lists are not the only data structure in Java, you also have set, queue and map\n", "- a set is set where you can not store the same object twice\n", "  (object are the same is equals() return true)\n", "- a queue add or remove object at the head or at the tail of the queue\n", "  (so a stack is a queue, a FIFO is a queue, etc)\n", "- a map is a dictionary that associate a key (which is unique) to a value\n"]
}
,
{
  "cell_type": "markdown",
  "metadata": {},
  "source": ["so to create an unmodifiable set, using the static method of()\n"]
}
,
{
  "cell_type": "code",
  "execution_count": null,
  "metadata": {},
  "outputs": [],
  "source": ["var authors = Set.of(\"J.R.R. Tolkien\", \"Philip K. Dick\", \"George R.R. Martin\");\n", "System.out.println(authors);\n"]
}
,
{
  "cell_type": "markdown",
  "metadata": {},
  "source": ["elements inside a set are organized in a way that make contains fast\n"]
}
,
{
  "cell_type": "code",
  "execution_count": null,
  "metadata": {},
  "outputs": [],
  "source": ["System.out.println(authors.contains(\"\"Philip K. Dick\"\"));\n"]
}
,
{
  "cell_type": "markdown",
  "metadata": {},
  "source": ["there are 3 modifiable sets\n", "- HashSet\n", "- LinkedHashSet, as fast as set\n", "- TreeSet, elements are sorted\n"]
}
,
{
  "cell_type": "markdown",
  "metadata": {},
  "source": ["a set has no order by default, apart if you create a LinkedHashSet\n"]
}
],
  "metadata": {
    "kernelspec": {
      "display_name": "Java",
      "language": "java",
      "name": "java"
    },
    "language_info": {
      "codemirror_mode": "java",
      "file_extension": ".java",
      "mimetype": "text/x-java-source",
      "name": "Java",
      "pygments_lexer": "java",
      "version": "15"
    }
  },
  "nbformat": 4,
  "nbformat_minor": 2
}


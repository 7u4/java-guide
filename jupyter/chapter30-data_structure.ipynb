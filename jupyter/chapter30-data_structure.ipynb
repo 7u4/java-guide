{
  "cells": [{
  "cell_type": "markdown",
  "metadata": {},
  "source": ["In Java, there are already plenty of data structures already available\n", "there are grouped under the name the collection API.\n"]
}
,
{
  "cell_type": "markdown",
  "metadata": {},
  "source": ["Lists are not the only data structure in Java, you also have set, queue and map\n", "- a set is set where you can not store the same object twice\n", "  (object are the same is equals() return true)\n", "- a queue add or remove object at the head or at the tail of the queue\n", "  (so a stack is a queue, a FIFO is a queue, etc)\n", "- a map is a dictionary that associate a key (which is unique) to a value\n"]
}
,
{
  "cell_type": "markdown",
  "metadata": {},
  "source": ["so to create an unmodifiable set, using the static method of()\n"]
}
,
{
  "cell_type": "code",
  "execution_count": null,
  "metadata": {},
  "outputs": [],
  "source": ["var authors = Set.of(\"J.R.R. Tolkien\", \"Philip K. Dick\", \"George R.R. Martin\");\n", "System.out.println(authors);\n"]
}
,
{
  "cell_type": "markdown",
  "metadata": {},
  "source": ["elements inside a set are organized in a way that make `contains` fast\n"]
}
,
{
  "cell_type": "code",
  "execution_count": null,
  "metadata": {},
  "outputs": [],
  "source": ["System.out.println(authors.contains(\"Philip K. Dick\"));\n"]
}
,
{
  "cell_type": "markdown",
  "metadata": {},
  "source": ["there are 3 modifiable sets\n", "- HashSet\n", "- LinkedHashSet, as fast as set\n", "- TreeSet, elements are sorted\n"]
}
,
{
  "cell_type": "markdown",
  "metadata": {},
  "source": ["a set has no order by default, apart if you create a LinkedHashSet\n"]
}
],
  "metadata": {
    "kernelspec": {
      "display_name": "Java",
      "language": "java",
      "name": "java"
    },
    "language_info": {
      "codemirror_mode": "java",
      "file_extension": ".java",
      "mimetype": "text/x-java-source",
      "name": "Java",
      "pygments_lexer": "java",
      "version": "15"
    }
  },
  "nbformat": 4,
  "nbformat_minor": 2
}


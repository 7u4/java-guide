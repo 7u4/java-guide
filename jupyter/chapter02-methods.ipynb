{
  "cells": [{
  "cell_type": "markdown",
  "metadata": {},
  "source": []
}
,
{
  "cell_type": "markdown",
  "metadata": {},
  "source": ["# Methods\n", "Methods are action to execute on an object\n"]
}
,
{
  "cell_type": "markdown",
  "metadata": {},
  "source": ["The method syntax starts with the return type, the name of the method,\n", "then its parameters\n", "The first parameter named `this` is a special keyword indicating the value\n", "before the `.`\n", "The keyword `return` indicates the return value of the method.\n"]
}
,
{
  "cell_type": "code",
  "execution_count": null,
  "metadata": {},
  "outputs": [],
  "source": ["record Rectangle(int width, int height) {\n", "  boolean hasTheSameHeight(Rectangle this, Rectangle rectangle) {\n", "    return this.height == rectangle.height;\n", "  }\n", "}\n"]
}
,
{
  "cell_type": "markdown",
  "metadata": {},
  "source": ["A method is called on an instance (an object) of a record\n", "here rectangle1 and rectangle2 are instances of Rectangle\n"]
}
,
{
  "cell_type": "code",
  "execution_count": null,
  "metadata": {},
  "outputs": [],
  "source": ["var rectangle1 = new Rectangle(2, 3);\n", "var rectangle2 = new Rectangle(4, 3);\n", "System.out.println(rectangle1.hasTheSameHeight(rectangle2));\n"]
}
,
{
  "cell_type": "markdown",
  "metadata": {},
  "source": ["The value before the `.`, here rectangle1, is called the receiver,\n", "and is stored as the parameter `this` for the method hasTheSameHeight(). \n"]
}
,
{
  "cell_type": "markdown",
  "metadata": {},
  "source": ["If you don't declare `this` as first parameter, it is declared implicitly\n", "so the record Rectangle below is equivalent to the record Rectangle above\n"]
}
,
{
  "cell_type": "code",
  "execution_count": null,
  "metadata": {},
  "outputs": [],
  "source": ["record Rectangle(int width, int height) {\n", "  boolean hasTheSameHeight(Rectangle rectangle) {  // implicit this\n", "    return this.height == rectangle.height;\n", "  }\n", "}\n"]
}
,
{
  "cell_type": "markdown",
  "metadata": {},
  "source": ["In Java, it's very unusual to declare `this` explicitly.\n", "Moreover, if inside a method you access to a variable which is not a parameter\n", "it will be automatically prefixed by 'this.', so the code can be simplified to\n"]
}
,
{
  "cell_type": "code",
  "execution_count": null,
  "metadata": {},
  "outputs": [],
  "source": ["record Rectangle(int width, int height) {\n", "  boolean hasTheSameHeight(Rectangle rectangle) {\n", "    return height == rectangle.height;   // no this.height needed !\n", "  }\n", "}\n", "var rectangle1 = new Rectangle(2, 3);\n", "var rectangle2 = new Rectangle(4, 3);\n", "System.out.println(rectangle1.hasTheSameHeight(rectangle2));\n"]
}
,
{
  "cell_type": "markdown",
  "metadata": {},
  "source": ["### void\n", "There is also a special type named 'void' if the method return no value\n"]
}
,
{
  "cell_type": "code",
  "execution_count": null,
  "metadata": {},
  "outputs": [],
  "source": ["record Rectangle(int width, int height) {\n", "  void hello() {\n", "    System.out.println(\"hello i'm \" + width + \" x \" + height);\n", "  }\n", "}\n", "new Rectangle(4, 5).hello();\n"]
}
,
{
  "cell_type": "markdown",
  "metadata": {},
  "source": ["## instance methods vs static methods\n", "In Java, there are two kinds of methods, the one attached to an instance (the 'this')\n", "that are called 'instance' methods and the one that are independent of an instance\n", "that are called 'static' method. A static method is prefixed by the keyword static.\n"]
}
,
{
  "cell_type": "markdown",
  "metadata": {},
  "source": ["Unlike an instance method, a static method has no 'this'\n", "by example, we can create a static method createSquare() that create a Rectangle\n", "with the same width and the same height\n"]
}
,
{
  "cell_type": "code",
  "execution_count": null,
  "metadata": {},
  "outputs": [],
  "source": ["record Rectangle(int width, int height) {\n", "  int area() {\n", "    return width * height;\n", "  }\n"]
}
,
{
  "cell_type": "code",
  "execution_count": null,
  "metadata": {},
  "outputs": [],
  "source": ["  static Rectangle createSquare(int side) {\n", "    return new Rectangle(side, side);\n", "  }\n", "}\n"]
}
,
{
  "cell_type": "markdown",
  "metadata": {},
  "source": ["because a static method is independent of an instance, you can not access to the\n", "record component inside a static method because the value of the component depends\n", "on the instance (rectangle1 and rectangle2 has not the same width or height).\n"]
}
,
{
  "cell_type": "markdown",
  "metadata": {},
  "source": ["To call a static method, you call it on the record name\n"]
}
,
{
  "cell_type": "code",
  "execution_count": null,
  "metadata": {},
  "outputs": [],
  "source": [" var square1 = Rectangle.createSquare(3);\n", " System.out.println(square1.area());\n"]
}
,
{
  "cell_type": "code",
  "execution_count": null,
  "metadata": {},
  "outputs": [],
  "source": [" // ### static methods are useful to share code\n", " // by example, to calculate the length of the diagonal of a Rectangle, one can write\n", "record Rectangle(int width, int height) {\n", "  double diagonal() {\n", "    return Math.sqrt(width * width + height * height);\n", "  }\n", "}\n", "var rectangle2 = new Rectangle(4, 3);\n", "System.out.println(rectangle2.diagonal());\n"]
}
,
{
  "cell_type": "markdown",
  "metadata": {},
  "source": ["it can also be written like this\n"]
}
,
{
  "cell_type": "code",
  "execution_count": null,
  "metadata": {},
  "outputs": [],
  "source": ["record Rectangle(int width, int height) {\n", "  double diagonal() {\n", "    return Math.sqrt(pow2(width) + pow2(height));\n", "  }\n", "  static int pow2(int value) {\n", "    return value * value;\n", "  }\n", "}\n", "var rectangle2 = new Rectangle(4, 3);\n", "System.out.println(rectangle2.diagonal());\n"]
}
,
{
  "cell_type": "markdown",
  "metadata": {},
  "source": ["In fact, there is already a static method named hypot in java.lang.Math\n", "that computes the hypotenuse, so Rectangle can be written like this\n"]
}
,
{
  "cell_type": "code",
  "execution_count": null,
  "metadata": {},
  "outputs": [],
  "source": ["record Rectangle(int width, int height) {\n", "  double diagonal() {\n", "    return Math.hypot(width, height);\n", "  }\n", "}\n", "var rectangle2 = new Rectangle(4, 3);\n", "System.out.println(rectangle2.diagonal());\n"]
}
],
  "metadata": {
    "kernelspec": {
      "display_name": "Java",
      "language": "java",
      "name": "java"
    },
    "language_info": {
      "codemirror_mode": "java",
      "file_extension": ".java",
      "mimetype": "text/x-java-source",
      "name": "Java",
      "pygments_lexer": "java",
      "version": "15"
    }
  },
  "nbformat": 4,
  "nbformat_minor": 2
}


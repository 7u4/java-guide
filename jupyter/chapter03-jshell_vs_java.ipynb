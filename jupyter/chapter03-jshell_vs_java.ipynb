{
  "cells": [{
  "cell_type": "markdown",
  "metadata": {},
  "source": ["# Jshell vs Java\n", "We are using jshell, jshell has mostly the same behavior as Java\n", "but because it's interactive it can do more\n"]
}
,
{
  "cell_type": "markdown",
  "metadata": {},
  "source": ["## Re-defining records or variables\n", "you can define a record or a variable several times, jshell will use the most recent one\n"]
}
,
{
  "cell_type": "code",
  "execution_count": null,
  "metadata": {},
  "outputs": [],
  "source": ["record Point(int x, int y) { }\n", "var p = new Point(2, 3);\n"]
}
,
{
  "cell_type": "code",
  "execution_count": null,
  "metadata": {},
  "outputs": [],
  "source": ["record Point(int x, int y) {\n", "  int distanceInX(int anotherX) {\n", "    return Math.abs(x - anotherX);\n", "  }\n", "}\n", "var p = new Point(2, 3);\n", "System.out.println(p.distanceInX(0));\n"]
}
,
{
  "cell_type": "markdown",
  "metadata": {},
  "source": ["and you can also directly write a method outside a record,\n", "it will act as a static method\n"]
}
,
{
  "cell_type": "code",
  "execution_count": null,
  "metadata": {},
  "outputs": [],
  "source": ["void hello() {\n", "  System.out.println(\"hello !\");\n", "}\n", "hello();\n"]
}
,
{
  "cell_type": "markdown",
  "metadata": {},
  "source": ["## Special commands\n", "There are a bunch of special commands that starts with '/'\n", "you can use /help if you want to know more\n"]
}
,
{
  "cell_type": "markdown",
  "metadata": {},
  "source": ["By example, you have also a list of the packages automatically imported\n"]
}
,
{
  "cell_type": "code",
  "execution_count": null,
  "metadata": {},
  "outputs": [],
  "source": ["/import\n"]
}
,
{
  "cell_type": "markdown",
  "metadata": {},
  "source": ["and you can import new package dynamically\n"]
}
,
{
  "cell_type": "code",
  "execution_count": null,
  "metadata": {},
  "outputs": [],
  "source": ["import java.util.zip.*\n"]
}
,
{
  "cell_type": "markdown",
  "metadata": {},
  "source": ["note that unlike import in Python or #include in C, Java import doesn't load any code,\n", "it says that is you search a name of a type, here are the packages to search.\n", "If a type appear in more than one package, an error will be reported and you will\n", "have to import the type explicitly (without any *)\n", "by example, to import a List of the package java.util\n"]
}
,
{
  "cell_type": "code",
  "execution_count": null,
  "metadata": {},
  "outputs": [],
  "source": ["import java.util.List;\n"]
}
,
{
  "cell_type": "markdown",
  "metadata": {},
  "source": ["# Entry Point\n", "With jshell, the code is executed from top to bottom\n", "In Java, when executing `java Hello`, the launcher looks for a static method\n", "named `main` that\n", "- must be visible from the outside (`public`)\n", "- takes an array of String (`String[]`) and\n", "- returns no value (`void`) \n"]
}
,
{
  "cell_type": "code",
  "execution_count": null,
  "metadata": {},
  "outputs": [],
  "source": ["record Hello() {\n", "  public static void main(String[] args) {\n", "    System.out.println(\"Hello !\");\n", "  }\n", "}\n"]
}
,
{
  "cell_type": "markdown",
  "metadata": {},
  "source": ["unlike in C, the first argument is `args[0]`.\n"]
}
],
  "metadata": {
    "kernelspec": {
      "display_name": "Java",
      "language": "java",
      "name": "java"
    },
    "language_info": {
      "codemirror_mode": "java",
      "file_extension": ".java",
      "mimetype": "text/x-java-source",
      "name": "Java",
      "pygments_lexer": "java",
      "version": "15"
    }
  },
  "nbformat": 4,
  "nbformat_minor": 2
}


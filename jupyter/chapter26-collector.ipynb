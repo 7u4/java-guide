{
  "cells": [{
  "cell_type": "markdown",
  "metadata": {},
  "source": ["A `java.util.stream.Collector` is defined by 4 methods\n", "- a container creator\n", "- an accumulator method that adds an element to a collection\n", "- a joining method that merges two collections\n", "- a finishing method that can transform the collector at the end\n", "  (by example to make it immutable)\n"]
}
],
  "metadata": {
    "kernelspec": {
      "display_name": "Java",
      "language": "java",
      "name": "java"
    },
    "language_info": {
      "codemirror_mode": "java",
      "file_extension": ".java",
      "mimetype": "text/x-java-source",
      "name": "Java",
      "pygments_lexer": "java",
      "version": "15"
    }
  },
  "nbformat": 4,
  "nbformat_minor": 2
}


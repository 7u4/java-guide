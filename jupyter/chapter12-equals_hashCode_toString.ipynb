{
  "cells": [{
  "cell_type": "markdown",
  "metadata": {},
  "source": ["# Implementing equals()/hashCode() and toString()\n"]
}
,
{
  "cell_type": "markdown",
  "metadata": {},
  "source": ["## Why equals()/hashCode() and toString() are important\n", "Those methods are used by the data structures (list, map) to implement operations\n", "like add(), contains(), etc. So most of the data structure doesn't work\n", "correctly if `equals()`/`hashCode()` and `toString()` are not correctly written\n", "on the element.\n"]
}
,
{
  "cell_type": "markdown",
  "metadata": {},
  "source": ["By example, `ArraysList.contains(value)` uses `value.equals()`,\n", "`HashMap.get(key)` uses both `key.hashCode()` and `key.equals()`.\n"]
}
,
{
  "cell_type": "markdown",
  "metadata": {},
  "source": ["## Default implementations from java.lang.Object\n", "Object defines several methods and provide a default implementation for them\n", "- `boolean equals(Object)`\n", "  test if two objects are equals (same type and same values), but\n", "  the default implementation do an ==, so only check if the two objects are at\n", "  the same address in memory\n", "- `int hashCode()`\n", "  return a summary of the content of the object as an int\n", "  the default implementation choose a random number when the object is created\n", "- `String toString()`\n", "  return a textual representation of the object\n", "  the default implementation return a concatenation of the \n"]
}
,
{
  "cell_type": "markdown",
  "metadata": {},
  "source": ["So the default implementations only ensure that an object is equals to itself.\n"]
}
,
{
  "cell_type": "markdown",
  "metadata": {},
  "source": ["## Writing your own equals()/hashCode()\n", "- `equals()` must be valid for any object and returns false if it's not the right type\n", "  so it starts with an `instanceof` and calls `equals()` if the field value\n", "  is a reference.\n", "- `hashCode()` delegates to the hashCode of the field value\n"]
}
,
{
  "cell_type": "code",
  "execution_count": null,
  "metadata": {},
  "outputs": [],
  "source": ["class User {\n", "  private final String name;\n", "  public User(String name) {\n", "    this.name = Objects.requireNonNull(name);\n", "  }\n", "  public boolean equals(Object o) {\n", "    return o instanceof User user &&\n", "      name.equals(user.name);\n", "  }\n", "  public int hashCode() {\n", "    return name.hashCode();\n", "  }\n", "  public String toString() {\n", "    return \"User \" + name;\n", "  }\n", "}\n", "var user1 = new User(\"Bob\");\n", "var user2 = new User(\"Bob\");\n", "System.out.println(user1.equals(user2));\n", "System.out.println(user1.hashCode() == user2.hashCode());\n", "System.out.println(user1);\n"]
}
,
{
  "cell_type": "markdown",
  "metadata": {},
  "source": ["### With two fields\n", "- `equals()`, it's better to first check the primitive fields because a primitive check\n", "  is usually faster than a call to `equals()`. \n", "- `hashCode()` can use the exclusive or `^` to mix the hash code.\n"]
}
,
{
  "cell_type": "code",
  "execution_count": null,
  "metadata": {},
  "outputs": [],
  "source": ["class User {\n", "  private final String name;\n", "  private final int age;\n", "  public User(String name, int age) {\n", "    this.name = Objects.requireNonNull(name);\n", "    this.age = age;\n", "  }\n", "  public boolean equals(Object o) {\n", "    return o instanceof User user &&\n", "      age == user.age && name.equals(user.name);\n", "  }\n", "  public int hashCode() {\n", "    return name.hashCode() ^ age;\n", "  }\n", "  public String toString() {\n", "    return \"User \" + name + \" \" + age;\n", "  }\n", "}\n", "var user1 = new User(\"Bob\", 31);\n", "var user2 = new User(\"Bob\", 31);\n", "System.out.println(user1.equals(user2));\n", "System.out.println(user1.hashCode() == user2.hashCode());\n", "System.out.println(user1);\n"]
}
,
{
  "cell_type": "markdown",
  "metadata": {},
  "source": ["### With several fields\n", "- equals(), as said in chapter 'basic_types', array.equals() doesn't work,\n", "  Arrays.equals() should be used instead\n", "- hashCode(), `Object.hash` compute the hash of several values separated by commas. \n"]
}
,
{
  "cell_type": "code",
  "execution_count": null,
  "metadata": {},
  "outputs": [],
  "source": ["class User {\n", "  private final String name;\n", "  private final int age;\n", "  private final String login;\n", "  private final char[] password;\n", "  public User(String name, int age, String login, char[] password) {\n", "    this.name = Objects.requireNonNull(name);\n", "    this.age = age;\n", "    this.login = Objects.requireNonNull(login);\n", "    this.password = password.clone();\n", "  }\n", "  public boolean equals(Object o) {\n", "    return o instanceof User user &&\n", "      age == user.age && name.equals(user.name) &&\n", "      login.equals(user.login) && Arrays.equals(password, user.password);\n", "  }\n", "  public int hashCode() {\n", "    return Objects.hash(name, age, login, Arrays.hashCode(password));\n", "  }\n", "  public String toString() {\n", "    return \"User \" + name + \" \" + age + \" \" + login + \" \" + \"*\".repeat(password.length);\n", "  }\n", "}\n", "var user1 = new User(\"Bob\", 31, \"bob\", \"df15cb4e019ec2eac654fb2e486c56df285c8c7b\".toCharArray());\n", "var user2 = new User(\"Bob\", 31, \"bob\", \"df15cb4e019ec2eac654fb2e486c56df285c8c7b\".toCharArray());\n", "System.out.println(user1.equals(user2));\n", "System.out.println(user1.hashCode() == user2.hashCode());\n", "System.out.println(user1);\n"]
}
,
{
  "cell_type": "markdown",
  "metadata": {},
  "source": ["## Record implementation\n"]
}
,
{
  "cell_type": "markdown",
  "metadata": {},
  "source": ["For a record, the methods `equals()`/`hashCode()` and `toString()` are already provided\n", "so usually you don't have to provide a new implementation.\n", "But arrays are not correctly supported\n", "- `equals()` will calls `Object.equals()` on the array instead of `Arrays.equals()`\n", "- `hashCode()` will calls `Object.hashCode()` on the array instead of `Arrays.hashCode()`\n"]
}
,
{
  "cell_type": "markdown",
  "metadata": {},
  "source": ["Here is an example of `equals()`/`hashCode()` and `toString()` if a field is an array\n"]
}
,
{
  "cell_type": "code",
  "execution_count": null,
  "metadata": {},
  "outputs": [],
  "source": ["record User(String login, char[] password) {\n", "  public User {\n", "    login = Objects.requireNonNull(login);\n", "    password = password.clone();\n", "  }\n", "  public char[] password() { // don't show the password\n", "    return \"*\".repeat(password.length).toCharArray();\n", "  }\n", "  public boolean equals(Object o) {\n", "    return o instanceof User user &&\n", "      login.equals(user.login) && Arrays.equals(password, user.password);\n", "  }\n", "  public int hashCode() {\n", "    return Objects.hash(login, Arrays.hashCode(password));\n", "  }\n", "  public String toString() {\n", "    return \"User \" + login + \" \" + \"*\".repeat(password.length);\n", "  }\n", "}\n", "var user1 = new User(\"bob\", \"df15cb4e019ec2eac654fb2e486c56df285c8c7b\".toCharArray());\n", "var user2 = new User(\"bob\", \"df15cb4e019ec2eac654fb2e486c56df285c8c7b\".toCharArray());\n", "System.out.println(user1.equals(user2));\n", "System.out.println(user1.hashCode() == user2.hashCode());\n", "System.out.println(user1);\n"]
}
],
  "metadata": {
    "kernelspec": {
      "display_name": "Java",
      "language": "java",
      "name": "java"
    },
    "language_info": {
      "codemirror_mode": "java",
      "file_extension": ".java",
      "mimetype": "text/x-java-source",
      "name": "Java",
      "pygments_lexer": "java",
      "version": "15"
    }
  },
  "nbformat": 4,
  "nbformat_minor": 2
}


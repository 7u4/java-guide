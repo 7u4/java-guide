{
  "cells": [{
  "cell_type": "markdown",
  "metadata": {},
  "source": []
}
,
{
  "cell_type": "markdown",
  "metadata": {},
  "source": ["# Contract\n"]
}
,
{
  "cell_type": "code",
  "execution_count": null,
  "metadata": {},
  "outputs": [],
  "source": ["public enum UnitKind {\n", "  MARINE(10), FLAME_THROWER(8)\n", "  ;\n", "  private final int maxPower;\n"]
}
,
{
  "cell_type": "code",
  "execution_count": null,
  "metadata": {},
  "outputs": [],
  "source": ["  private UnitKind(int maxPower) {\n", "    this.maxPower = maxPower;\n", "  }\n", "}\n"]
}
,
{
  "cell_type": "code",
  "execution_count": null,
  "metadata": {},
  "outputs": [],
  "source": ["public class MilitaryUnit {\n", "  private final UnitKind kind;\n", "  private final int power;\n", "  private IntUnaryOperator bonus;\n"]
}
,
{
  "cell_type": "code",
  "execution_count": null,
  "metadata": {},
  "outputs": [],
  "source": ["  public MilitaryUnit(UnitKind kind, int power) {\n", "    this.kind = Objects.requireNonNull(kind);\n", "    if (power < 0 || power >= kind.maxPower) {\n", "      throw new IllegalArgumentException(\"invalid power \" + power);\n", "    }\n", "    this.power = power;\n", "    this.bonus = x -> x;\n", "  }\n"]
}
,
{
  "cell_type": "code",
  "execution_count": null,
  "metadata": {},
  "outputs": [],
  "source": ["  public void bonus(IntUnaryOperator bonus) {\n", "    this.bonus = Objects.requireNonNull(bonus);\n", "  }\n"]
}
,
{
  "cell_type": "code",
  "execution_count": null,
  "metadata": {},
  "outputs": [],
  "source": ["  public int fightingPower() {\n", "    return Math.max(0, Math.min(unit.maxPower, bonus.applyAsInt(power)));\n", "  }\n", "}\n"]
}
],
  "metadata": {
    "kernelspec": {
      "display_name": "Java",
      "language": "java",
      "name": "java"
    },
    "language_info": {
      "codemirror_mode": "java",
      "file_extension": ".java",
      "mimetype": "text/x-java-source",
      "name": "Java",
      "pygments_lexer": "java",
      "version": "15"
    }
  },
  "nbformat": 4,
  "nbformat_minor": 2
}


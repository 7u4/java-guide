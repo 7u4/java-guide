{
  "cells": [{
  "cell_type": "markdown",
  "metadata": {},
  "source": ["We have seen in a previous chapter that we can use classes to hide information. \n", "We can even declare classes inside a class.\n"]
}
,
{
  "cell_type": "markdown",
  "metadata": {},
  "source": ["Several examples are using `range()`, so we are importing it first\n"]
}
,
{
  "cell_type": "code",
  "execution_count": null,
  "metadata": {},
  "outputs": [],
  "source": ["import static java.util.stream.IntStream.range;\n"]
}
,
{
  "cell_type": "markdown",
  "metadata": {},
  "source": ["# Nested classes\n"]
}
,
{
  "cell_type": "markdown",
  "metadata": {},
  "source": ["There 4 kinds of nested classses\n", "- nested classes of classes, _static_ or _inner_\n", "- local classes of methods, _anonymous_ or _named_\n"]
}
,
{
  "cell_type": "markdown",
  "metadata": {},
  "source": ["## Static nested class\n", "A static nested class is a class declared inside another one.\n", "Inside a class, like with fields and method, a nested class\n", "can be private, public or package visible.\n", "Using a nested class is a way to tidy things up.\n", "Here the name of the class is `Utils.Result`,\n"]
}
,
{
  "cell_type": "code",
  "execution_count": null,
  "metadata": {},
  "outputs": [],
  "source": ["public class Utils {\n", "  public static class Result {\n", "    private final int count;\n", "    private final double sum; \n", "    private Result(int count, double sum) {\n", "      this.count = count;\n", "      this.sum = sum;\n", "    }\n", "    public double average() {\n", "      return sum / count;\n", "    }\n", "  }\n", "  public static Result findSumAndAverage(double[] array) {\n", "    return new Result(array.length, Arrays.stream(array).sum());\n", "  }\n", "}\n", "var array = range(0, 20).mapToDouble(x -> x).toArray();\n", "System.out.println(Utils.findSumAndAverage(array).average());\n"]
}
,
{
  "cell_type": "markdown",
  "metadata": {},
  "source": ["### Always static\n", "A class inside an interface is always static.\n", "A record inside a class is always static.\n"]
}
,
{
  "cell_type": "markdown",
  "metadata": {},
  "source": ["So the following code has mostly the same behavior\n"]
}
,
{
  "cell_type": "code",
  "execution_count": null,
  "metadata": {},
  "outputs": [],
  "source": ["public class Utils {\n", "  public record Result(int count, double sum) {\n", "    public double average() {\n", "      return sum / count;\n", "    }\n", "  }\n", "  public static Result findSumAndAverage(double[] array) {\n", "    return new Result(array.length, Arrays.stream(array).sum());\n", "  }\n", "}\n", "System.out.println(Utils.findSumAndAverage(array).average());\n"]
}
,
{
  "cell_type": "markdown",
  "metadata": {},
  "source": ["## Inner class (non static)\n", "An inner class is a non-static nested class.\n", "An inner class can access to the instance fields of the enclosing\n", "class because an inner class is created on an instance of the\n", "enclosing class.\n", "In the method `subList()`, you can notice that `RangeList` is\n", "created using `this.new RangeList(...)`. The new instance of\n", "`RangeList` is created on an instance of `Range`.\n"]
}
,
{
  "cell_type": "code",
  "execution_count": null,
  "metadata": {},
  "outputs": [],
  "source": ["record Range(int start, int end) {\n", "  private class RangeList extends AbstractList<Integer> implements RandomAccess {\n", "    private final int from;\n", "    private final int to;\n", "    private RangeList(int from, int to) {\n", "      this.from = from;\n", "      this.to = to;\n", "    }\n", "    public int size() {\n", "      return to - from;\n", "    }\n", "    public Integer get(int index) {\n", "      Objects.checkIndex(index, size());\n", "      return start + from + index;\n", "    }\n", "  }\n", "  public Range {\n", "    Objects.checkIndex(start, end);\n", "  }\n", "  public List<Integer> subList(int from, int to) {\n", "    Objects.checkFromToIndex(from, to, end - start);\n", "    return this.new RangeList(from, to);\n", "  }\n", "}\n", "var list = new Range(2, 10).subList(2, 6);\n", "System.out.println(list);\n"]
}
,
{
  "cell_type": "markdown",
  "metadata": {},
  "source": ["In the code above, we are inheriting from `AbstractList` that\n", "allows to implement an unmodifiable List given two methods\n", "`size()` and `get(index)`.\n", "Implanting `RandomAccess` means that `get(index)` is implemented\n", "in constant time. For more info, see the chapter 'collection'.\n"]
}
,
{
  "cell_type": "markdown",
  "metadata": {},
  "source": ["### Accessing the outer instance\n", "Inside the inner class, you may want to the instance of\n", "the enclosing class on which the current instance was created.\n", "There is a special syntax for that, in the example below,\n", "it's `A.this`. \n"]
}
,
{
  "cell_type": "markdown",
  "metadata": {},
  "source": ["The syntax looks like accessing a static field named `this`\n", "of the enclosing class but there is nothing static here.\n", "But it's accessing to the instance of A at the time B was created.\n", "It's just a weird syntax.\n"]
}
,
{
  "cell_type": "code",
  "execution_count": null,
  "metadata": {},
  "outputs": [],
  "source": ["class A {\n", "  class B {\n", "    void print() {\n", "      System.out.println(\"this \" + this);\n", "      System.out.println(\"A.this \" + A.this);\n", "    }\n", "  }\n", "}\n", "var a = new A();\n", "System.out.println(\"a \" + a);\n", "var b = a.new B();\n", "System.out.println(\"b \" + b);\n", "b.print();\n"]
}
,
{
  "cell_type": "markdown",
  "metadata": {},
  "source": ["## Local anonymous class of method\n", "Java allows to create class inside methods, with the twist\n", "that the class can access the local variables of the method if\n", "the variable is initialized once (the compiler named those\n", "variables _effectively final_).\n", "In the code below, `from` and `to` are the two effectively\n", "final variables (here parameters) that are used inside the\n", "anonymous class.\n"]
}
,
{
  "cell_type": "markdown",
  "metadata": {},
  "source": ["An anonymous class is a class that is not named in the user code\n", "(the compiler will give it a name) so there is a special syntax\n", "for creating an anonymous class\n", "In the code below, it's `new AbstractList<Integer>() { ... }`,\n", "it means create a class with no name that inherits from\n", "`AbstractList<Integer>`.\n"]
}
,
{
  "cell_type": "code",
  "execution_count": null,
  "metadata": {},
  "outputs": [],
  "source": ["record Range(int start, int end) {\n", "  public Range {\n", "    Objects.checkIndex(start, end);\n", "  }\n", "  public List<Integer> subList(int from, int to) {\n", "    Objects.checkFromToIndex(from, to, end - start);\n", "    return new AbstractList<Integer>() {\n", "      public int size() {\n", "        return to - from;\n", "      }\n", "      public Integer get(int index) {\n", "        Objects.checkIndex(index, size());\n", "        return start + from + index;\n", "      }\n", "    };\n", "  }\n", "}\n", "var list = new Range(2, 10).subList(2, 6);\n", "System.out.println(list);\n"]
}
,
{
  "cell_type": "markdown",
  "metadata": {},
  "source": ["### interaction with var\n", "While an anonymous class has no name from the user point of view,\n", "it has a name given by the compiler so we can use `var` to\n", "ask the compiler to declare a variable of that type.\n"]
}
,
{
  "cell_type": "markdown",
  "metadata": {},
  "source": ["In the code below, if we try to type `box` as `Object`,\n", "`box.sum` doesn't compile (Object has no field sum).\n"]
}
,
{
  "cell_type": "code",
  "execution_count": null,
  "metadata": {},
  "outputs": [],
  "source": ["Object box = new Object() {\n", "  int sum;\n", "};\n", "System.out.println(box.sum);  // doesn't compile\n"]
}
,
{
  "cell_type": "markdown",
  "metadata": {},
  "source": ["If we are using var, it works !\n"]
}
,
{
  "cell_type": "code",
  "execution_count": null,
  "metadata": {},
  "outputs": [],
  "source": ["var box = new Object() {\n", "  int sum;\n", "};\n", "range(0, 10).forEach(value -> box.sum += value);\n", "System.out.println(box.sum);\n"]
}
,
{
  "cell_type": "markdown",
  "metadata": {},
  "source": ["## Local named class of method\n", "The anonymous class syntax has a restriction, you can not\n", "inherits/implements more than one type, if you want to both\n", "inherits from a class and implement an interface like\n", "for `RangeList`, you can name the class inside the method. \n"]
}
,
{
  "cell_type": "markdown",
  "metadata": {},
  "source": ["In the code below, `RangeList` is a named class that is only\n", "available inside the method `subList`. Like an anonymous\n", "class it can access effectively final variables.\n"]
}
,
{
  "cell_type": "code",
  "execution_count": null,
  "metadata": {},
  "outputs": [],
  "source": ["record Range(int start, int end) {\n", "  public Range {\n", "    Objects.checkIndex(start, end);\n", "  }\n", "  public List<Integer> subList(int from, int to) {\n", "    Objects.checkFromToIndex(from, to, end - start);\n", "    class RangeList extends AbstractList<Integer> implements RandomAccess {\n", "      public int size() {\n", "        return to - from;\n", "      }\n", "      public Integer get(int index) {\n", "        Objects.checkIndex(index, size());\n", "        return start + from + index;\n", "      }\n", "    }\n", "    return new RangeList();\n", "  }\n", "}\n", "var list = new Range(2, 10).subList(2, 6);\n", "System.out.println(list);\n"]
}
],
  "metadata": {
    "kernelspec": {
      "display_name": "Java",
      "language": "java",
      "name": "java"
    },
    "language_info": {
      "codemirror_mode": "java",
      "file_extension": ".java",
      "mimetype": "text/x-java-source",
      "name": "Java",
      "pygments_lexer": "java",
      "version": "15"
    }
  },
  "nbformat": 4,
  "nbformat_minor": 2
}


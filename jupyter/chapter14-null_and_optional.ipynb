{
  "cells": [{
  "cell_type": "markdown",
  "metadata": {},
  "source": []
}
,
{
  "cell_type": "markdown",
  "metadata": {},
  "source": ["# Null and Optional\n"]
}
,
{
  "cell_type": "markdown",
  "metadata": {},
  "source": ["In Java, any reference can be null which usually means that there is no object.\n", "Trying to call a method or a field on null throws a `NullPointerException`.\n", "It's not rare for a program written by a beginner to randomly stop due to a\n", "`NullPointerException`.\n"]
}
,
{
  "cell_type": "markdown",
  "metadata": {},
  "source": ["Conceptually, there are two ways to avoid a null to be dereferenced,\n", "either protect against null each time you read a value, or each time you write a value\n", "By example, with\n"]
}
,
{
  "cell_type": "code",
  "execution_count": null,
  "metadata": {},
  "outputs": [],
  "source": ["record Person(String name) {\n", "  public String toString() {\n", "    return \"hello \" + name.toString(); \n", "  }\n", "}\n"]
}
,
{
  "cell_type": "markdown",
  "metadata": {},
  "source": ["You get an exception if you write\n"]
}
,
{
  "cell_type": "code",
  "execution_count": null,
  "metadata": {},
  "outputs": [],
  "source": ["System.out.println(new Person(null));\n"]
}
,
{
  "cell_type": "markdown",
  "metadata": {},
  "source": ["A stupid idea is to try to guard against all reads\n"]
}
,
{
  "cell_type": "code",
  "execution_count": null,
  "metadata": {},
  "outputs": [],
  "source": ["record Person(String name) {\n", "  public String toString() {\n", "    if (name == null) {\n", "      return \"hello unnamed\"; \n", "    }\n", "    return \"hello \" + name.toString(); \n", "  }\n", "}\n", "System.out.println(new Person(null));\n"]
}
,
{
  "cell_type": "markdown",
  "metadata": {},
  "source": ["It forces you to define a meaning of a name being null.\n"]
}
,
{
  "cell_type": "markdown",
  "metadata": {},
  "source": ["It's easier to refuse to create a Person with null as name.\n"]
}
,
{
  "cell_type": "code",
  "execution_count": null,
  "metadata": {},
  "outputs": [],
  "source": ["record Person(String name) {\n", "  public Person {   // it's a compact constructor\n", "    Objects.requireNonNull(name);\n", "  }\n", "  public String toString() {\n", "    return \"hello \" + name.toString(); \n", "  }\n", "}\n", "new Person(null);\n"]
}
,
{
  "cell_type": "markdown",
  "metadata": {},
  "source": ["You may think that we have trade a `NullPointerException` to a `NullPointerException`.\n", "But there is a big difference, the former code was throwing a `NullPointerException`\n", "only when toString() is called, so depending on how the class `Person` was used,\n", "a `NullPointerException` is thrown __randomly__.\n", "The latter code throws a `NullPointerException` if you dare to try to create\n", "a `Person` with a name null so a `NullPointerException` is thrown __consistently__.\n"]
}
,
{
  "cell_type": "markdown",
  "metadata": {},
  "source": ["So in Java, the idea to avoid the spurious is `NullPointerException` to never let\n", "a user code to get a null\n", "- do not allow to create an object with null fields\n", "- never return null from a method (using an Optional or an empty collection instead)\n"]
}
,
{
  "cell_type": "markdown",
  "metadata": {},
  "source": ["## Defensive programming\n"]
}
,
{
  "cell_type": "markdown",
  "metadata": {},
  "source": ["The best way to not store null in a field (or a record component) is to reject any attempt\n", "to call a public method with null as argument. So any public methods should call\n", "`Objects.requireNonNull()` on all their arguments that are references.\n"]
}
,
{
  "cell_type": "code",
  "execution_count": null,
  "metadata": {},
  "outputs": [],
  "source": ["record Animal(String kind, boolean wild) {\n", "  public Animal {\n", "    Objects.requireNonNull(kind);\n", "    // no need to do a requireNonNull on 'wild', a boolean can not be null\n", "  }\n", "  public boolean isDangerousWith(Animal animal) {\n", "    Objects.requireNonNull(animal);\n", "    return wild || !kind.equals(animal.kind);\n", "  }\n", "}\n", "new Animal(null, true);\n"]
}
,
{
  "cell_type": "markdown",
  "metadata": {},
  "source": ["### Map.get()\n"]
}
,
{
  "cell_type": "markdown",
  "metadata": {},
  "source": ["You may sometimes want to pass null to a public method or return null from a method\n", "but it should be an exceptional case and it should be documented\n"]
}
,
{
  "cell_type": "markdown",
  "metadata": {},
  "source": ["A good example is `Map.get(key)` that is used a lot and is specified to return `null`\n", "if the key is not stored in the map. Prefer to use `Map.getOrDefault()` instead.\n", "See chapter 'list and map' for more information.\n"]
}
,
{
  "cell_type": "markdown",
  "metadata": {},
  "source": ["## Optional\n", "Optional is a special class which means that a return value of a method may not be present.\n", "Unlike a usual object type that can be null, an Optional can be present or empty.\n", "It forces the user code be prepared to handle an empty Optional.\n"]
}
,
{
  "cell_type": "markdown",
  "metadata": {},
  "source": ["In the following code a `Car` has a color and optionally has a driver\n"]
}
,
{
  "cell_type": "code",
  "execution_count": null,
  "metadata": {},
  "outputs": [],
  "source": ["public class Car {\n", "  private final Person driver;  // may be null\n", "  private final String color;\n", "  public Car(String color, Person driver) {\n", "    this.color = Objects.requireNonNull(color);\n", "    this.driver = driver;  // may be null\n", "  }\n", "  public String color() {\n", "    return color;\n", "  }\n", "  public Optional<Person> driver() {\n", "    return Optional.ofNullable(driver);\n", "  }\n", "}\n"]
}
,
{
  "cell_type": "markdown",
  "metadata": {},
  "source": ["Trying to call a method of `Person` on an `Optional`, obviously doesn't work\n"]
}
,
{
  "cell_type": "code",
  "execution_count": null,
  "metadata": {},
  "outputs": [],
  "source": ["var car = new Car(\"red\", null);\n", "var name = car.driver().name(); // doesn't compile\n"]
}
,
{
  "cell_type": "markdown",
  "metadata": {},
  "source": ["so the user code as to be changed to handle `Optional`, and the fact that\n", "an `Optional` can be empty\n"]
}
,
{
  "cell_type": "code",
  "execution_count": null,
  "metadata": {},
  "outputs": [],
  "source": ["var car = new Car(\"red\", null);\n", "var name = car.driver().map(Person::name).orElse(\"autopilot\");\n", "System.out.println(name);\n"]
}
,
{
  "cell_type": "markdown",
  "metadata": {},
  "source": ["> Don't use Optional for anything else than a return type\n", "> Never store null in an Optional because it defeats its purpose.\n"]
}
],
  "metadata": {
    "kernelspec": {
      "display_name": "Java",
      "language": "java",
      "name": "java"
    },
    "language_info": {
      "codemirror_mode": "java",
      "file_extension": ".java",
      "mimetype": "text/x-java-source",
      "name": "Java",
      "pygments_lexer": "java",
      "version": "15"
    }
  },
  "nbformat": 4,
  "nbformat_minor": 2
}


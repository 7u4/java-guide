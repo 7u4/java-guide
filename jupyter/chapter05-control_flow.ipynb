{
 "cells": [
  {
   "cell_type": "markdown",
   "metadata": {},
   "source": []
  },
  {
   "cell_type": "markdown",
   "metadata": {},
   "source": [
    "# Expression and Control Flow\n",
    "Most of the control flow syntax of Java comes from C with some enhancements\n"
   ]
  },
  {
   "cell_type": "markdown",
   "metadata": {},
   "source": [
    "## Variables\n",
    "if you explicitly type a variable you can declare a variable without initializing it\n"
   ]
  },
  {
   "cell_type": "code",
   "execution_count": 1,
   "metadata": {},
   "outputs": [],
   "source": [
    "int x;\n"
   ]
  },
  {
   "cell_type": "markdown",
   "metadata": {},
   "source": [
    "but a variable can be used only after being initialized\n"
   ]
  },
  {
   "cell_type": "code",
   "execution_count": 2,
   "metadata": {},
   "outputs": [
    {
     "name": "stdout",
     "output_type": "stream",
     "text": [
      "3\n"
     ]
    }
   ],
   "source": [
    "x = 3;\n",
    "System.out.println(x);\n"
   ]
  },
  {
   "cell_type": "markdown",
   "metadata": {},
   "source": [
    "block of code\n",
    "a variable declared in a block of code, can not be used outside that block\n"
   ]
  },
  {
   "cell_type": "code",
   "execution_count": 3,
   "metadata": {},
   "outputs": [],
   "source": [
    " {\n",
    "   var value = 42;\n",
    " }\n",
    " // value can not be used here !\n"
   ]
  },
  {
   "cell_type": "markdown",
   "metadata": {},
   "source": [
    "## If\n"
   ]
  },
  {
   "cell_type": "markdown",
   "metadata": {},
   "source": [
    "### Test with `if`\n"
   ]
  },
  {
   "cell_type": "code",
   "execution_count": 4,
   "metadata": {},
   "outputs": [
    {
     "name": "stdout",
     "output_type": "stream",
     "text": [
      "you are old enough to drink a beer\n"
     ]
    }
   ],
   "source": [
    "void oldEnough(int age) {\n",
    "  if (age >= 21) {\n",
    "    System.out.println(\"you are old enough to drink a beer\");\n",
    "  }\n",
    "}\n",
    "oldEnough(22);\n"
   ]
  },
  {
   "cell_type": "markdown",
   "metadata": {},
   "source": [
    "### Test with `if ... else`\n"
   ]
  },
  {
   "cell_type": "code",
   "execution_count": 5,
   "metadata": {},
   "outputs": [
    {
     "name": "stdout",
     "output_type": "stream",
     "text": [
      "too bad for you !\n"
     ]
    }
   ],
   "source": [
    "void oldEnough(int age) {\n",
    "  if (age >= 21) {\n",
    "    System.out.println(\"you are old enough to drink a beer\");\n",
    "  } else {\n",
    "    System.out.println(\"too bad for you !\");\n",
    "  }\n",
    "}\n",
    "oldEnough(17);\n"
   ]
  },
  {
   "cell_type": "markdown",
   "metadata": {},
   "source": [
    "## Switch\n"
   ]
  },
  {
   "cell_type": "markdown",
   "metadata": {},
   "source": [
    "### Test with a `switch` statement\n",
    "There are two forms of switch, a switch statement is a switch that doesn't\n",
    "produce a value. For those, the `default` case is not mandatory\n"
   ]
  },
  {
   "cell_type": "code",
   "execution_count": 6,
   "metadata": {},
   "outputs": [
    {
     "name": "stdout",
     "output_type": "stream",
     "text": [
      "car !\n"
     ]
    }
   ],
   "source": [
    "void vehicle(int wheels) {\n",
    "  switch(wheels) {\n",
    "    case 1 -> System.out.println(\"monocycle !\");\n",
    "    case 2 -> System.out.println(\"bicycle !\");\n",
    "    case 3, 4 -> System.out.println(\"car !\");\n",
    "    default -> {\n",
    "      // if there are several lines\n",
    "      System.out.println(\"whaat !\");\n",
    "    }\n",
    "  }\n",
    "}\n",
    "vehicle(3);\n"
   ]
  },
  {
   "cell_type": "markdown",
   "metadata": {},
   "source": [
    "### Test with a `switch` expression\n",
    "A switch that produces a valeur is a switch expresssion. Given that a\n",
    "value need to be produced, a `default` case is mandatory\n"
   ]
  },
  {
   "cell_type": "code",
   "execution_count": 7,
   "metadata": {},
   "outputs": [
    {
     "name": "stdout",
     "output_type": "stream",
     "text": [
      "car !\n"
     ]
    }
   ],
   "source": [
    "String vehicle(int wheels) {\n",
    "  return switch(wheels) {\n",
    "    case 1 -> \"monocycle !\";\n",
    "    case 2 -> \"bicycle !\";\n",
    "    case 3, 4 -> \"car !\";\n",
    "    default -> \"whaat !\";\n",
    "  };\n",
    "}\n",
    "System.out.println(vehicle(3));\n"
   ]
  },
  {
   "cell_type": "markdown",
   "metadata": {},
   "source": [
    "you can switch on integers, strings and enums\n"
   ]
  },
  {
   "cell_type": "code",
   "execution_count": 9,
   "metadata": {},
   "outputs": [
    {
     "ename": "EvalException",
     "evalue": "hello",
     "output_type": "error",
     "traceback": [
      "\u001b[1m\u001b[31m---------------------------------------------------------------------------\u001b[0m",
      "\u001b[1m\u001b[31mjava.lang.IllegalArgumentException: hello\u001b[0m",
      "\u001b[1m\u001b[31m\tat .doors(#22:5)\u001b[0m",
      "\u001b[1m\u001b[31m\tat .(#24:1)\u001b[0m"
     ]
    }
   ],
   "source": [
    "int doors(String kind) {\n",
    "  return switch(kind) {\n",
    "    case \"smart\" -> 3;\n",
    "    case \"sedan\", \"hatchback\" -> 5;\n",
    "    default -> { throw new IllegalArgumentException(kind); }\n",
    "  };\n",
    "}\n",
    "System.out.println(doors(\"hello\"));\n"
   ]
  },
  {
   "cell_type": "markdown",
   "metadata": {},
   "source": [
    "### Test with a `switch` compatible with C\n",
    "You can use the C compatible switch too, using `:` instead of `->`\n",
    "(you can not mix them) but in that case don't forget to ends\n",
    "each case with a `break`.\n"
   ]
  },
  {
   "cell_type": "code",
   "execution_count": 10,
   "metadata": {},
   "outputs": [
    {
     "name": "stdout",
     "output_type": "stream",
     "text": [
      "car !\n"
     ]
    }
   ],
   "source": [
    "void vehicle(int wheels) {\n",
    "  switch(wheels) {\n",
    "    case 1:\n",
    "      System.out.println(\"monocycle !\");\n",
    "      break;\n",
    "    case 2:\n",
    "      System.out.println(\"bicycle !\");\n",
    "      break;\n",
    "    case 3:\n",
    "    case 4:\n",
    "      System.out.println(\"car !\");\n",
    "      break;\n",
    "    default:\n",
    "      System.out.println(\"whaat !\");\n",
    "  }\n",
    "}\n",
    "vehicle(3);\n"
   ]
  },
  {
   "cell_type": "markdown",
   "metadata": {},
   "source": [
    "## Instanceof\n"
   ]
  },
  {
   "cell_type": "markdown",
   "metadata": {},
   "source": [
    "### `instanceof`\n",
    "instanceof test the class of a value at runtime, if instanceof succeeds,\n",
    "the value is stored in the variable declared as last argument\n"
   ]
  },
  {
   "cell_type": "code",
   "execution_count": 12,
   "metadata": {},
   "outputs": [
    {
     "ename": "CompilationException",
     "evalue": "",
     "output_type": "error",
     "traceback": [
      "\u001b[1m\u001b[30m|   \u001b[1m\u001b[30m\u001b[0m\u001b[1m\u001b[30m\u001b[41m\u001b[0m\u001b[1m\u001b[30mrecord Car(int seats) {}\u001b[0m",
      "\u001b[1m\u001b[31mrecords are a preview feature and are disabled by default.\u001b[0m",
      "\u001b[1m\u001b[31m  (use --enable-preview to enable records)\u001b[0m",
      ""
     ]
    }
   ],
   "source": [
    "record Car(int seats) {}\n",
    "record Bus(int capacity) {}\n",
    "int maxPersons(Object value) {\n",
    "  if (value instanceof Car car) {\n",
    "    return car.seats();\n",
    "  }\n",
    "  if (value instanceof Bus bus) {\n",
    "    return bus.capacity();\n",
    "  }\n",
    "  return 0;\n",
    "}\n",
    "System.out.println(maxPersons(new Car(4)));\n",
    "System.out.println(maxPersons(new Bus(32)));\n"
   ]
  },
  {
   "cell_type": "markdown",
   "metadata": {},
   "source": [
    "### `instanceof` with no variable declaration\n",
    "if you don't need the variable declaration, you can omit it\n"
   ]
  },
  {
   "cell_type": "code",
   "execution_count": 13,
   "metadata": {},
   "outputs": [
    {
     "ename": "CompilationException",
     "evalue": "",
     "output_type": "error",
     "traceback": [
      "\u001b[1m\u001b[30m|   \u001b[1m\u001b[30m  if (value instanceof Bus \u001b[0m\u001b[1m\u001b[30m\u001b[41m\u001b[0m\u001b[1m\u001b[30mbus) {\u001b[0m",
      "\u001b[1m\u001b[31mpattern matching in instanceof is a preview feature and is disabled by default.\u001b[0m",
      "\u001b[1m\u001b[31m  (use --enable-preview to enable pattern matching in instanceof)\u001b[0m",
      ""
     ]
    }
   ],
   "source": [
    "void printKind(Object value) {\n",
    "  if (value instanceof Car) {\n",
    "    System.out.println(\"it a car\");\n",
    "  }\n",
    "  if (value instanceof Bus bus) {\n",
    "    System.out.println(\"it a bus\");\n",
    "  }\n",
    "}\n",
    "printKind(new Car(4));\n"
   ]
  },
  {
   "cell_type": "markdown",
   "metadata": {},
   "source": [
    "## Loops\n"
   ]
  },
  {
   "cell_type": "markdown",
   "metadata": {},
   "source": [
    "### `while` loop\n"
   ]
  },
  {
   "cell_type": "code",
   "execution_count": 14,
   "metadata": {},
   "outputs": [
    {
     "name": "stdout",
     "output_type": "stream",
     "text": [
      "0\n",
      "1\n",
      "2\n",
      "3\n",
      "4\n"
     ]
    }
   ],
   "source": [
    "void printFirstIntegers(int n) {\n",
    "  var i = 0;\n",
    "  while(i < n) {\n",
    "    System.out.println(i);\n",
    "    i++;\n",
    "  }\n",
    "}\n",
    "printFirstIntegers(5);\n"
   ]
  },
  {
   "cell_type": "markdown",
   "metadata": {},
   "source": [
    "### `for` loop\n"
   ]
  },
  {
   "cell_type": "code",
   "execution_count": 15,
   "metadata": {},
   "outputs": [
    {
     "name": "stdout",
     "output_type": "stream",
     "text": [
      "0\n",
      "1\n",
      "2\n",
      "3\n",
      "4\n"
     ]
    }
   ],
   "source": [
    "void printFirstIntegers(int n) {\n",
    "  for(var i = 0; i < n; i++) {\n",
    "    System.out.println(i);\n",
    "  }\n",
    "}\n",
    "printFirstIntegers(5);\n"
   ]
  },
  {
   "cell_type": "markdown",
   "metadata": {},
   "source": [
    "### `for` loop on array or list\n"
   ]
  },
  {
   "cell_type": "code",
   "execution_count": 16,
   "metadata": {},
   "outputs": [
    {
     "name": "stdout",
     "output_type": "stream",
     "text": [
      "iron man\n",
      "captain america\n",
      "black panther\n"
     ]
    }
   ],
   "source": [
    "var list = List.of(\"iron man\", \"captain america\", \"black panther\");\n",
    "for(var value: list) {\n",
    "  System.out.println(value);\n",
    "}\n"
   ]
  },
  {
   "cell_type": "markdown",
   "metadata": {},
   "source": [
    "### On loops\n",
    "Most of the loops can also be abstracted using higher order constructs\n",
    "if you don't understand that code now, don't panic, we will come back\n",
    "to that later\n"
   ]
  },
  {
   "cell_type": "markdown",
   "metadata": {},
   "source": [
    "using `IntStream.range()`\n"
   ]
  },
  {
   "cell_type": "code",
   "execution_count": 17,
   "metadata": {},
   "outputs": [
    {
     "ename": "CompilationException",
     "evalue": "",
     "output_type": "error",
     "traceback": [
      "\u001b[1m\u001b[30m|   \u001b[1m\u001b[30m\u001b[0m\u001b[1m\u001b[30m\u001b[41mIntStream\u001b[0m\u001b[1m\u001b[30m.range(0, 5).forEach(System.out::println);\u001b[0m",
      "\u001b[1m\u001b[31mcannot find symbol\u001b[0m",
      "\u001b[1m\u001b[31m  symbol:   variable IntStream\u001b[0m",
      ""
     ]
    }
   ],
   "source": [
    "IntStream.range(0, 5).forEach(System.out::println);\n"
   ]
  },
  {
   "cell_type": "markdown",
   "metadata": {},
   "source": [
    "using `List.forEach()`\n"
   ]
  },
  {
   "cell_type": "code",
   "execution_count": 18,
   "metadata": {},
   "outputs": [
    {
     "name": "stdout",
     "output_type": "stream",
     "text": [
      "iron man\n",
      "captain america\n",
      "black panther\n"
     ]
    }
   ],
   "source": [
    "list.forEach(System.out::println);\n"
   ]
  }
 ],
 "metadata": {
  "kernelspec": {
   "display_name": "Java",
   "language": "java",
   "name": "java"
  },
  "language_info": {
   "codemirror_mode": "java",
   "file_extension": ".jshell",
   "mimetype": "text/x-java-source",
   "name": "Java",
   "pygments_lexer": "java",
   "version": "14-ea+28-1366"
  }
 },
 "nbformat": 4,
 "nbformat_minor": 2
}

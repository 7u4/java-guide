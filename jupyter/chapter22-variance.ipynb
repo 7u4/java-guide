{
  "cells": [{
  "cell_type": "markdown",
  "metadata": {},
  "source": []
}
,
{
  "cell_type": "markdown",
  "metadata": {},
  "source": ["# Generics Variance\n", "Let say we have a list of String and a list of Integer and\n", "we want to write a method being able to print all the values\n", "from those lists, we may write something like this\n"]
}
,
{
  "cell_type": "code",
  "execution_count": null,
  "metadata": {},
  "outputs": [],
  "source": ["void printAll(List<Object> list) {\n", "  list.forEach(System.out::println);\n", "}\n"]
}
,
{
  "cell_type": "code",
  "execution_count": null,
  "metadata": {},
  "outputs": [],
  "source": ["List<Integer> list = List.of(42, 777);\n", "printAll(list);\n"]
}
,
{
  "cell_type": "markdown",
  "metadata": {},
  "source": ["This line doesn't compile because generics in Java are invariant,\n", "you can only call `printAll()` with a list of Object and not a list of String.\n"]
}
,
{
  "cell_type": "markdown",
  "metadata": {},
  "source": ["You may be confused because both for a List<Object> and a List<String>,\n", "you can get any items and see it as an Object.\n", "But List<Object> also means that you can set() any cell with an Object,\n", "something which is clearly not possible if it's a List<String>.\n", "That's why generics in Java are invariant.\n"]
}
,
{
  "cell_type": "markdown",
  "metadata": {},
  "source": ["## `? extends`\n", "The way to solve this problem is to say to the compiler, i want a list of Object\n", "and I pinky swear that i will not call set() with an Object.\n"]
}
,
{
  "cell_type": "markdown",
  "metadata": {},
  "source": ["The type system not trusting humans, we invent a notation\n", "`List<? extends Object>` for that\n"]
}
,
{
  "cell_type": "code",
  "execution_count": null,
  "metadata": {},
  "outputs": [],
  "source": ["void printAll(List<? extends Object> list) {\n", "  list.forEach(System.out::println);\n", "}\n", "List<Integer> list = List.of(42, 777);\n", "printAll(list);\n"]
}
,
{
  "cell_type": "markdown",
  "metadata": {},
  "source": ["There is no class List<? extends Object> at runtime, it's just a type that can be\n", "a list of anything (`?` means any types) that is a subtype of Object at runtime.\n"]
}
,
{
  "cell_type": "markdown",
  "metadata": {},
  "source": ["Note that `?` is not a type, the type is `? extends Something` and it only exist\n", "in between `<` and `>`.\n"]
}
,
{
  "cell_type": "markdown",
  "metadata": {},
  "source": ["If a method as a parameter typed Optional<? extends CharSequence>, you can call\n", "that method with anything which is a optional of a subtype of CharSequence.\n", "Inside the method, you can not call any method of Optional<E> that takes\n", "an E because, it may be stored inside the Optional.\n"]
}
,
{
  "cell_type": "markdown",
  "metadata": {},
  "source": ["Note that this is an approximation, this code does not compile even if orElse()\n", "doesn't change the content of the Optional because the compiler has no way\n", "to know that implementation of orElse(). \n"]
}
,
{
  "cell_type": "code",
  "execution_count": null,
  "metadata": {},
  "outputs": [],
  "source": ["/*\n", "void printOptional(Optional<? extends Object> list) {\n", "  System.out.println(list.orElse(new Object()));\n", "}\n", "*/\n"]
}
,
{
  "cell_type": "markdown",
  "metadata": {},
  "source": ["There is an exception, you call the method that takes an E if the value is null\n", "because you can store null in any Optional. So the following code compiles\n"]
}
,
{
  "cell_type": "code",
  "execution_count": null,
  "metadata": {},
  "outputs": [],
  "source": ["void printOptional(Optional<? extends Object> list) {\n", "  System.out.println(list.orElse(null));\n", "}\n"]
}
,
{
  "cell_type": "markdown",
  "metadata": {},
  "source": ["### `?`\n", "`?` is a short syntax for `? extends Object`.\n"]
}
,
{
  "cell_type": "code",
  "execution_count": null,
  "metadata": {},
  "outputs": [],
  "source": ["void printOptional(Optional<?> list) {\n", "  System.out.println(list.orElse(null));\n", "}\n", "Optional<String> optional = Optional.of(\"foo\");\n", "printOptional(optional);\n"]
}
,
{
  "cell_type": "markdown",
  "metadata": {},
  "source": ["## `? super`\n", "Sometimes you want to do the opposite, store something in a list\n", "by example, you want to write a method addOne that add an element\n", "into any list that can store a String, but it you declare it like\n", "this, you can not call it with a List<Object>\n"]
}
,
{
  "cell_type": "code",
  "execution_count": null,
  "metadata": {},
  "outputs": [],
  "source": ["void addOne(String s, List<String> list) {\n", "  list.add(s);\n", "}\n", "addOne(\"foo\", new ArrayList<Object>());\n"]
}
,
{
  "cell_type": "markdown",
  "metadata": {},
  "source": ["Again, we have a notation for that, List<? super String>, it means\n", "a list of the supertype of a String.\n"]
}
,
{
  "cell_type": "code",
  "execution_count": null,
  "metadata": {},
  "outputs": [],
  "source": ["void addOne(String s, List<? super String> list) {\n", "  list.add(s);\n", "}\n", "addOne(\"foo\", new ArrayList<Object>());\n"]
}
,
{
  "cell_type": "markdown",
  "metadata": {},
  "source": ["In that case, it means that if you try to call a method a method\n", "that return a E, the compiler will not be able to type it correctly\n", "because it can be any supertype of String\n"]
}
,
{
  "cell_type": "markdown",
  "metadata": {},
  "source": ["Again, there is an exception because you can always store anything\n", "as Object so the following code compiles\n"]
}
,
{
  "cell_type": "code",
  "execution_count": null,
  "metadata": {},
  "outputs": [],
  "source": ["void foo(List<? super String> list) {\n", "  // I can call any method that takes an E with a String\n", "  // an i can also write because any object is an Object in Java\n", "  Object o = list.get(0);\n", "}\n"]
}
,
{
  "cell_type": "markdown",
  "metadata": {},
  "source": ["## Where to put some `? extends`/`? super`\n", "For any public methods that takes a generics as parameter, you should ask yourself\n", "if you can use `? extends` or `? super`.\n"]
}
,
{
  "cell_type": "markdown",
  "metadata": {},
  "source": ["You can note that this is similar to using List as parameter instead of using\n", "ArrayList. Using a type less precise allow the user code to call with\n", "generics with different type arguments.\n"]
}
,
{
  "cell_type": "markdown",
  "metadata": {},
  "source": ["Apart in case of overriding, never, never use a `? extends`/`? super` as\n", "a return type. Otherwise, every developers that use your method will have to\n", "introduce some `? extends`/`? super` in it's own code.\n"]
}
,
{
  "cell_type": "markdown",
  "metadata": {},
  "source": ["### PECS: Produce Extends Consumer Super\n", "The rule PECS is a mnemonic to know when to use `? extends`/`? super`.\n", "From the point of view of a generics class Foo<E>\n", "- if the class acts as a producer of E (calling only methods that return an E)\n", "   you want to use `Foo<? extends E>`\n", "- if the class acts as a consumer of E (calling only methods that takes an E)\n", "   you want to use `Foo<? super E>`\n", "- if the class acts as a producer and a consumer, use Foo<E>.\n"]
}
,
{
  "cell_type": "markdown",
  "metadata": {},
  "source": ["## Relation with the variable of type\n", "Instead of `printAll(List<? extends Object>)`, one can write\n"]
}
,
{
  "cell_type": "code",
  "execution_count": null,
  "metadata": {},
  "outputs": [],
  "source": ["<T extends Object> void printAll(List<T> list) {\n", "  list.forEach(System.out::println);\n", "}\n", "List<String> list = List.of(\"hello\");\n", "printAll(list);\n"]
}
,
{
  "cell_type": "markdown",
  "metadata": {},
  "source": ["But in Java, we prefer to not introduce a type variable if it's not necessary\n", "You can also notice that it doesn't work with `? super` because <T super Whatever>\n", "is not a valid syntax.\n"]
}
],
  "metadata": {
    "kernelspec": {
      "display_name": "Java",
      "language": "java",
      "name": "java"
    },
    "language_info": {
      "codemirror_mode": "java",
      "file_extension": ".java",
      "mimetype": "text/x-java-source",
      "name": "Java",
      "pygments_lexer": "java",
      "version": "15"
    }
  },
  "nbformat": 4,
  "nbformat_minor": 2
}


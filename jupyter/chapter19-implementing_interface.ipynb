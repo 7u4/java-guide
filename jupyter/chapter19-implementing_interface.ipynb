{
  "cells": [{
  "cell_type": "markdown",
  "metadata": {},
  "source": []
}
,
{
  "cell_type": "markdown",
  "metadata": {},
  "source": ["# Interface\n", "Java is a typed language, even if you don't explicitly write a type\n", "the compiler you compute the type of every variables\n", "Once you start to want to mix several records, you need to declare\n", "common type between records, such type are known as interface\n"]
}
,
{
  "cell_type": "markdown",
  "metadata": {},
  "source": ["### The problem\n", "let say we have a Square and Rectangle, and both have a method `area()`\n"]
}
,
{
  "cell_type": "code",
  "execution_count": null,
  "metadata": {},
  "outputs": [],
  "source": ["record Square(int side) {\n", "  public double area() {\n", "    return side * side;\n", "  }\n", "}\n", "record Rectangle(int width, int height) {\n", "  public double area() {\n", "    return width * height;\n", "  }\n", "}\n"]
}
,
{
  "cell_type": "markdown",
  "metadata": {},
  "source": ["let create a list of a square and a rectangle\n"]
}
,
{
  "cell_type": "code",
  "execution_count": null,
  "metadata": {},
  "outputs": [],
  "source": ["var figures = List.of(new Square(2), new Rectangle(3, 4));\n"]
}
,
{
  "cell_type": "markdown",
  "metadata": {},
  "source": ["try to loop over the elements of the figures to print the area doesn't compile\n"]
}
,
{
  "cell_type": "code",
  "execution_count": null,
  "metadata": {},
  "outputs": [],
  "source": ["/* for(var figure: figures) {\n", "     System.out.println(figure.area());\n", "}*/\n"]
}
,
{
  "cell_type": "markdown",
  "metadata": {},
  "source": ["The problem is that compiler try to find the type of the element of the list\n", "and find that they are java.lang.Object, and Object has no method area()\n", "so it doens't compile\n"]
}
,
{
  "cell_type": "markdown",
  "metadata": {},
  "source": ["the idea is to introduce a type Figure has a common type for Square and Rectangle\n"]
}
,
{
  "cell_type": "code",
  "execution_count": null,
  "metadata": {},
  "outputs": [],
  "source": ["interface Figure {\n", "  public double area();\n", "}\n"]
}
,
{
  "cell_type": "markdown",
  "metadata": {},
  "source": ["and declare that a Square and a Rectangle are a kind of Figure\n", "using the keyword 'implements'\n"]
}
,
{
  "cell_type": "code",
  "execution_count": null,
  "metadata": {},
  "outputs": [],
  "source": ["record Square(int side) implements Figure {\n", "  public double area() {\n", "    return side * side;\n", "  }\n", "}\n", "record Rectangle(int width, int height) implements Figure {\n", "  public double area() {\n", "    return width * height;\n", "  }\n", "}\n"]
}
,
{
  "cell_type": "markdown",
  "metadata": {},
  "source": ["Now, the list is correctly typed as a list of figure (List<Figure>)\n", "so looping over the figures to call area() works\n"]
}
,
{
  "cell_type": "code",
  "execution_count": null,
  "metadata": {},
  "outputs": [],
  "source": ["var figures = List.of(new Square(2), new Rectangle(3, 4));\n", "for(var figure: figures) {\n", "  System.out.println(figure.area());\n", "}\n"]
}
,
{
  "cell_type": "markdown",
  "metadata": {},
  "source": ["An interface is a common type that you need to declare when you want to\n", "call the same method on different records\n", "At runtime, when you call a method of the interface, the interpreter calls\n", "the correct implementation (this is called polymorphism)\n"]
}
,
{
  "cell_type": "markdown",
  "metadata": {},
  "source": ["Technically, we have already used interfaces, List is an interface too\n"]
}
,
{
  "cell_type": "markdown",
  "metadata": {},
  "source": ["## Implementing an interface\n", "In Java, not only record can implement an interface, \n", "you have three other syntax\n", "- anonymous class\n", "- lambda\n", "- method reference\n"]
}
,
{
  "cell_type": "markdown",
  "metadata": {},
  "source": ["### Anonymous class\n"]
}
,
{
  "cell_type": "code",
  "execution_count": null,
  "metadata": {},
  "outputs": [],
  "source": ["var anotherFigure = new Figure() {\n", "  public double area() {\n", "    return 4;\n", "  }\n", "};\n"]
}
,
{
  "cell_type": "markdown",
  "metadata": {},
  "source": ["An anonymous class allow you to only provide the code of the methods of the interface\n", "note that the syntax is a little weird because you may call new on a Figure but infact,\n", "you ask to create something that implements Figure not a figure by itself.\n"]
}
,
{
  "cell_type": "markdown",
  "metadata": {},
  "source": ["you may think that this syntax is useless because you can not have the area computed\n", "from the values of some components like with a record, but if you create an anonymous class\n", "inside a method you can use the parameters of the method inside the anonymous class\n"]
}
,
{
  "cell_type": "code",
  "execution_count": null,
  "metadata": {},
  "outputs": [],
  "source": ["Figure rectangularTriangle(int width, int height) {\n", "  return new Figure() {\n", "    public double area() {\n", "      return width * height / 2.0;\n", "    }\n", "  };\n", "};\n"]
}
,
{
  "cell_type": "code",
  "execution_count": null,
  "metadata": {},
  "outputs": [],
  "source": ["var figures = List.of(new Square(2), rectangularTriangle(3, 4));\n", "for(var figure: figures) {\n", "  System.out.println(figure.area());\n", "}\n"]
}
,
{
  "cell_type": "markdown",
  "metadata": {},
  "source": ["### Lambda\n", "In case of the interface is itself an interface with only one abstract method,\n", "we calls that interface a functional interface, you have even a shorter syntax\n"]
}
,
{
  "cell_type": "code",
  "execution_count": null,
  "metadata": {},
  "outputs": [],
  "source": ["Figure anotherFigure = () -> 4;\n"]
}
,
{
  "cell_type": "markdown",
  "metadata": {},
  "source": ["and rewrite the method rectangularTriangle() like this\n"]
}
,
{
  "cell_type": "code",
  "execution_count": null,
  "metadata": {},
  "outputs": [],
  "source": ["Figure rectangularTriangle(int width, int height) {\n", "  return () -> width * height / 2.0;\n", "}\n"]
}
,
{
  "cell_type": "code",
  "execution_count": null,
  "metadata": {},
  "outputs": [],
  "source": ["var figures = List.of(new Square(2), rectangularTriangle(3, 4));\n", "for(var figure: figures) {\n", "  System.out.println(figure.area());\n", "}\n"]
}
,
{
  "cell_type": "markdown",
  "metadata": {},
  "source": ["### Method Reference\n", "In case of the method already exists instead of \n", "calling it inside a lambda, we can make a reference on it using the operator ::\n", "(notice that EquilaterlaTriangle doesn't implement Figure)\n"]
}
,
{
  "cell_type": "code",
  "execution_count": null,
  "metadata": {},
  "outputs": [],
  "source": ["record EquilateralTriangle(int side) {\n", "  double area() {\n", "    return Math.sqrt(3) * side * side / 4.0;\n", "  }\n", "}\n", "var equilateral = new EquilateralTriangle(2);\n"]
}
,
{
  "cell_type": "markdown",
  "metadata": {},
  "source": ["so instead of\n"]
}
,
{
  "cell_type": "code",
  "execution_count": null,
  "metadata": {},
  "outputs": [],
  "source": ["var figures = List.<Figure>of(new Square(2), () -> equilateral.area());\n", "for(var figure: figures) {\n", "  System.out.println(figure.area());\n", "}\n"]
}
,
{
  "cell_type": "markdown",
  "metadata": {},
  "source": ["you can use a method reference\n"]
}
,
{
  "cell_type": "code",
  "execution_count": null,
  "metadata": {},
  "outputs": [],
  "source": ["var figures = List.<Figure>of(new Square(2), equilateral::area);\n", "for(var figure: figures) {\n", "  System.out.println(figure.area());\n", "}\n"]
}
,
{
  "cell_type": "markdown",
  "metadata": {},
  "source": ["More about lambdas and method references in the following chapter\n"]
}
],
  "metadata": {
    "kernelspec": {
      "display_name": "Java",
      "language": "java",
      "name": "java"
    },
    "language_info": {
      "codemirror_mode": "java",
      "file_extension": ".java",
      "mimetype": "text/x-java-source",
      "name": "Java",
      "pygments_lexer": "java",
      "version": "15"
    }
  },
  "nbformat": 4,
  "nbformat_minor": 2
}


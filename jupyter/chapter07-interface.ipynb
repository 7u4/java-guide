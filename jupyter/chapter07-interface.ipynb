{
  "cells": [{
  "cell_type": "markdown",
  "metadata": {},
  "source": ["# Interface\n", "Java is a typed language, even if you don't explicitly write a type\n", "the compiler you compute the type of every variables\n", "Once you start to want to mix several records, you need to declare\n", "common type between records, such type are known as interface\n"]
}
,
{
  "cell_type": "markdown",
  "metadata": {},
  "source": ["## The problem\n", "let say we have a Square and Rectangle, and both have a method `area()`\n"]
}
,
{
  "cell_type": "code",
  "execution_count": null,
  "metadata": {},
  "outputs": [],
  "source": ["record Square(int side) {\n", "  public double area() {\n", "    return side * side;\n", "  }\n", "}\n", "record Rectangle(int width, int height) {\n", "  public double area() {\n", "    return width * height;\n", "  }\n", "}\n"]
}
,
{
  "cell_type": "markdown",
  "metadata": {},
  "source": ["let create a list of a square and a rectangle\n"]
}
,
{
  "cell_type": "code",
  "execution_count": null,
  "metadata": {},
  "outputs": [],
  "source": ["var figures = List.of(new Square(2), new Rectangle(3, 4));\n"]
}
,
{
  "cell_type": "markdown",
  "metadata": {},
  "source": ["try to loop over the elements of the figures to print the area doesn't compile\n"]
}
,
{
  "cell_type": "code",
  "execution_count": null,
  "metadata": {},
  "outputs": [],
  "source": ["for(var figure: figures) {\n", "  System.out.println(figure.area());\n", "}\n"]
}
,
{
  "cell_type": "markdown",
  "metadata": {},
  "source": ["The problem is that compiler try to find the type of the element of the list\n", "and find that they are java.lang.Object, and Object has no method area()\n", "so it doens't compile\n"]
}
,
{
  "cell_type": "markdown",
  "metadata": {},
  "source": ["### Interface and abstract method\n", "The idea is to introduce a type Figure has a common type for Square and Rectangle.\n", "In Java, we use the keyword `interface` for that.\n"]
}
,
{
  "cell_type": "markdown",
  "metadata": {},
  "source": ["The method `area()` in Figure is not a classical method with some code because\n", "the code is defined in Square and Rectangle. It's an `abstract` method.\n", "The definition of the method is present but the code has to be implemented by the\n", "records that implement the interface\n"]
}
,
{
  "cell_type": "code",
  "execution_count": null,
  "metadata": {},
  "outputs": [],
  "source": ["interface Figure {\n", "  public abstract double area();\n", "}\n"]
}
,
{
  "cell_type": "markdown",
  "metadata": {},
  "source": ["and declare that a Square and a Rectangle are a kind of Figure\n", "using the keyword `implements`\n"]
}
,
{
  "cell_type": "code",
  "execution_count": null,
  "metadata": {},
  "outputs": [],
  "source": ["record Square(int side) implements Figure {\n", "  public double area() {\n", "    return side * side;\n", "  }\n", "}\n", "record Rectangle(int width, int height) implements Figure {\n", "  public double area() {\n", "    return width * height;\n", "  }\n", "}\n"]
}
,
{
  "cell_type": "markdown",
  "metadata": {},
  "source": ["Now, the list is correctly typed as a list of figure (`List<Figure>`)\n", "so looping over the figures to call `area()` works\n"]
}
,
{
  "cell_type": "code",
  "execution_count": null,
  "metadata": {},
  "outputs": [],
  "source": ["List<Figure> figures = List.of(new Square(2), new Rectangle(3, 4));\n", "for(var figure: figures) {\n", "  System.out.println(figure.area());\n", "}\n"]
}
,
{
  "cell_type": "markdown",
  "metadata": {},
  "source": ["An interface is a common type that you need to declare when you want to\n", "call the same method on different records\n", "At runtime, when you call a method of the interface, the interpreter calls\n", "the correct implementation (this is called polymorphism)\n"]
}
,
{
  "cell_type": "markdown",
  "metadata": {},
  "source": ["## Static method\n", "Like a record, an interface can have `static` methods\n"]
}
,
{
  "cell_type": "code",
  "execution_count": null,
  "metadata": {},
  "outputs": [],
  "source": ["interface Figure {\n", "  public abstract double area();\n", "  public static Figure createASquare(int side) {\n", "    return new Square(side);\n", "  }\n", "}\n", "var aSquare = Figure.createASquare(3);\n", "System.out.println(aSquare);\n"]
}
,
{
  "cell_type": "markdown",
  "metadata": {},
  "source": ["## Default method\n", "Inside an interface, the instance methods are implicitly abstract,\n", "if we want to declare a method with some code in it, we have to use\n", "the keyword `default`.\n", "By example, we can write a method `isBig` that is true if the area is big enough.\n"]
}
,
{
  "cell_type": "code",
  "execution_count": null,
  "metadata": {},
  "outputs": [],
  "source": ["interface Figure {\n", "  public abstract double area();\n", "  public default boolean isBig() {\n", "    return area() >= 10;\n", "  }\n", "}\n", "System.out.println(new Square(2).isBig());\n", "System.out.println(new Rectangle(3, 4).isBig());\n"]
}
,
{
  "cell_type": "markdown",
  "metadata": {},
  "source": ["Because a default method is declared on the interface, all records that\n", "implement that interface will have that method. Default methods are named like this\n", "because if the record doesn't define the method itself, the method will be provided\n", "by default. \n"]
}
,
{
  "cell_type": "markdown",
  "metadata": {},
  "source": ["## Functional interface\n", "An interface with only one abstract method is equivalent to a function type.\n", "We name this kind of interfaces, _functional_ interfaces.\n", "They can be implemented by supplementary constructs.\n"]
}
,
{
  "cell_type": "markdown",
  "metadata": {},
  "source": ["### Lambda\n", "The parameter are declared in between the parenthesis and the body of the method\n", "is declared after the arrow (like the expression switch).\n"]
}
,
{
  "cell_type": "code",
  "execution_count": null,
  "metadata": {},
  "outputs": [],
  "source": ["interface Figure {\n", "  public abstract double area();\n", "}\n", "Figure anotherFigure = () -> 4;\n", "System.out.println(anotherFigure.area());\n"]
}
,
{
  "cell_type": "markdown",
  "metadata": {},
  "source": ["and rewrite the method rectangularTriangle()\n", "You can notice that a lambda can access to the parameter `width` and `height`\n"]
}
,
{
  "cell_type": "code",
  "execution_count": null,
  "metadata": {},
  "outputs": [],
  "source": ["Figure rectangularTriangle(int width, int height) {\n", "  return () -> width * height / 2.0;\n", "}\n", "var triangle = rectangularTriangle(3, 4);\n", "System.out.println(triangle.area());\n"]
}
,
{
  "cell_type": "markdown",
  "metadata": {},
  "source": ["### Method Reference\n", "In case of the method already exists instead of \n", "calling it inside a lambda, we can make a reference on it using the operator ::\n", "(notice that EquilaterlaTriangle doesn't implement Figure)\n"]
}
,
{
  "cell_type": "code",
  "execution_count": null,
  "metadata": {},
  "outputs": [],
  "source": ["record EquilateralTriangle(int side) {\n", "  double area() {\n", "    return Math.sqrt(3) * side * side / 4.0;\n", "  }\n", "}\n", "var equilateral = new EquilateralTriangle(2);\n"]
}
,
{
  "cell_type": "markdown",
  "metadata": {},
  "source": ["so instead of\n"]
}
,
{
  "cell_type": "code",
  "execution_count": null,
  "metadata": {},
  "outputs": [],
  "source": ["var figures = List.<Figure>of(new Square(2), () -> equilateral.area());\n", "for(var figure: figures) {\n", "  System.out.println(figure.area());\n", "}\n"]
}
,
{
  "cell_type": "markdown",
  "metadata": {},
  "source": ["you can use a method reference\n"]
}
,
{
  "cell_type": "code",
  "execution_count": null,
  "metadata": {},
  "outputs": [],
  "source": ["var figures = List.<Figure>of(new Square(2), equilateral::area);\n", "for(var figure: figures) {\n", "  System.out.println(figure.area());\n", "}\n"]
}
,
{
  "cell_type": "markdown",
  "metadata": {},
  "source": ["More about lambdas and method references in the following chapter.\n"]
}
],
  "metadata": {
    "kernelspec": {
      "display_name": "Java",
      "language": "java",
      "name": "java"
    },
    "language_info": {
      "codemirror_mode": "java",
      "file_extension": ".java",
      "mimetype": "text/x-java-source",
      "name": "Java",
      "pygments_lexer": "java",
      "version": "15"
    }
  },
  "nbformat": 4,
  "nbformat_minor": 2
}


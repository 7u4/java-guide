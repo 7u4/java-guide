{
 "cells": [
  {
   "cell_type": "markdown",
   "metadata": {},
   "source": [
    "\n",
    "# A record is a user defined typehere Light is defined as containing two components: a color (typed as a String) andan intensity (typed as a 64 bits floating number double)."
   ]
  },
  {
   "cell_type": "code",
   "execution_count": 11,
   "metadata": {},
   "outputs": [
    {
     "ename": "CompilationException",
     "evalue": "",
     "output_type": "error",
     "traceback": [
      "\u001b[1m\u001b[30m|   \u001b[1m\u001b[30m\u001b[0m\u001b[1m\u001b[30m\u001b[41m\u001b[0m\u001b[1m\u001b[30mrecord Light(String color, double intensity) {}\u001b[0m",
      "\u001b[1m\u001b[31mrecords are a preview feature and are disabled by default.\u001b[0m",
      "\u001b[1m\u001b[31m  (use --enable-preview to enable records)\u001b[0m",
      ""
     ]
    }
   ],
   "source": [
    "record Light(String color, double intensity) {}\n"
   ]
  },
  {
   "cell_type": "markdown",
   "metadata": {},
   "source": [
    "In Java, there is strong division between primitive types like double that are written in lower case andobjects like String or Light that have a name that starts with an uppercase letter.\n",
    "A primitive type is stored as value while an object is stored asa reference (the address of the object in memory).In Java, `var` create a new variable"
   ]
  },
  {
   "cell_type": "code",
   "execution_count": 12,
   "metadata": {},
   "outputs": [],
   "source": [
    "var maxIntensity = 1.0;   // it's a value\n",
    "var colorName = \"black\";  // it's a reference to String somewhere in memory\n"
   ]
  },
  {
   "cell_type": "markdown",
   "metadata": {},
   "source": [
    "you can also indicate the type instead of `var`if you are using var, you are asking the compiler to find the type for you."
   ]
  },
  {
   "cell_type": "code",
   "execution_count": 13,
   "metadata": {},
   "outputs": [],
   "source": [
    "String colorName = \"black\";\n"
   ]
  },
  {
   "cell_type": "markdown",
   "metadata": {},
   "source": [
    "System.out.println()To print a value in Java we have a weird incantation `System.out.println()` that we will detail later."
   ]
  },
  {
   "cell_type": "code",
   "execution_count": 14,
   "metadata": {},
   "outputs": [
    {
     "name": "stdout",
     "output_type": "stream",
     "text": [
      "1.0\n"
     ]
    }
   ],
   "source": [
    "System.out.println(maxIntensity);\n"
   ]
  },
  {
   "cell_type": "markdown",
   "metadata": {},
   "source": [
    "Primitive types and objects can be printed using the same incantation.We will see later its exact meaning"
   ]
  },
  {
   "cell_type": "code",
   "execution_count": 15,
   "metadata": {},
   "outputs": [
    {
     "name": "stdout",
     "output_type": "stream",
     "text": [
      "black\n"
     ]
    }
   ],
   "source": [
    "System.out.println(colorName);\n"
   ]
  },
  {
   "cell_type": "markdown",
   "metadata": {},
   "source": [
    "## Concatenation with +If we want to print a text followed by a value, we use the operator `+`."
   ]
  },
  {
   "cell_type": "code",
   "execution_count": 16,
   "metadata": {},
   "outputs": [
    {
     "name": "stdout",
     "output_type": "stream",
     "text": [
      "the value of colorName is black\n"
     ]
    }
   ],
   "source": [
    "System.out.println(\"the value of colorName is \" + colorName);\n"
   ]
  },
  {
   "cell_type": "markdown",
   "metadata": {},
   "source": [
    "To create an object in memory, we use the operator `new` followed by the value of each record componentsthe following instruction create a Light with \"blue\" as color and 1.0 as intensity."
   ]
  },
  {
   "cell_type": "code",
   "execution_count": 17,
   "metadata": {},
   "outputs": [
    {
     "ename": "CompilationException",
     "evalue": "",
     "output_type": "error",
     "traceback": [
      "\u001b[1m\u001b[30m|   \u001b[1m\u001b[30mvar blueLight = new \u001b[0m\u001b[1m\u001b[30m\u001b[41mLight\u001b[0m\u001b[1m\u001b[30m(\"blue\", 1.0);\u001b[0m",
      "\u001b[1m\u001b[31mcannot find symbol\u001b[0m",
      "\u001b[1m\u001b[31m  symbol:   class Light\u001b[0m",
      ""
     ]
    }
   ],
   "source": [
    "var blueLight = new Light(\"blue\", 1.0);\n"
   ]
  },
  {
   "cell_type": "markdown",
   "metadata": {},
   "source": [
    "To interact with an object in Java, we use methods, that are functions attached to an object.To call a method, we use the operator `.` followed by the name of the method and its arguments.A record automatically declares methods to access its components so Light declares two methodscolor() and intensity().\n",
    "By example to get the intensity of the object blueLight"
   ]
  },
  {
   "cell_type": "code",
   "execution_count": 18,
   "metadata": {},
   "outputs": [
    {
     "ename": "CompilationException",
     "evalue": "",
     "output_type": "error",
     "traceback": [
      "\u001b[1m\u001b[30m|   \u001b[1m\u001b[30mvar blueLightIntensity = \u001b[0m\u001b[1m\u001b[30m\u001b[41mblueLight\u001b[0m\u001b[1m\u001b[30m.intensity();\u001b[0m",
      "\u001b[1m\u001b[31mcannot find symbol\u001b[0m",
      "\u001b[1m\u001b[31m  symbol:   variable blueLight\u001b[0m",
      ""
     ]
    }
   ],
   "source": [
    "var blueLightIntensity = blueLight.intensity();\n",
    "System.out.println(blueLightIntensity);\n"
   ]
  },
  {
   "cell_type": "markdown",
   "metadata": {},
   "source": [
    "## toString()By default a record knows how to transform itself into a Stringin Java, the method to transform an object to a String is named toString()."
   ]
  },
  {
   "cell_type": "code",
   "execution_count": null,
   "metadata": {},
   "outputs": [],
   "source": [
    "System.out.println(blueLight.toString());\n"
   ]
  },
  {
   "cell_type": "markdown",
   "metadata": {},
   "source": [
    "In fact, println() calls toString() if the argument is an objectso when using println(), calling explicitly toString() is not necessary."
   ]
  },
  {
   "cell_type": "code",
   "execution_count": null,
   "metadata": {},
   "outputs": [],
   "source": [
    "System.out.println(blueLight);\n"
   ]
  },
  {
   "cell_type": "markdown",
   "metadata": {},
   "source": [
    "## equals()Let's create another Light"
   ]
  },
  {
   "cell_type": "code",
   "execution_count": null,
   "metadata": {},
   "outputs": [],
   "source": [
    "var redLight = new Light(\"red\", 1.0);\n"
   ]
  },
  {
   "cell_type": "markdown",
   "metadata": {},
   "source": [
    "In Java, you can ask if two objects are equals, using the method equals(Object).the return value is a boolean (a primitive type that is either true or false)."
   ]
  },
  {
   "cell_type": "code",
   "execution_count": null,
   "metadata": {},
   "outputs": [],
   "source": [
    "System.out.println(blueLight.equals(redLight));\n"
   ]
  },
  {
   "cell_type": "markdown",
   "metadata": {},
   "source": [
    "Let's create another red light"
   ]
  },
  {
   "cell_type": "code",
   "execution_count": null,
   "metadata": {},
   "outputs": [],
   "source": [
    "var anotherRedLight = new Light(\"red\", 1.0);\n",
    "System.out.println(redLight.equals(anotherRedLight));\n"
   ]
  },
  {
   "cell_type": "markdown",
   "metadata": {},
   "source": [
    "## hashCode()You can also ask to get an integer summary (a hash) of any objects.This is used to speed up data structures (hash tables).Two objects that are equals() must have the same hashCode()."
   ]
  },
  {
   "cell_type": "code",
   "execution_count": null,
   "metadata": {},
   "outputs": [],
   "source": [
    "System.out.println(redLight.hashCode());\n",
    "System.out.println(anotherRedLight.hashCode());\n"
   ]
  },
  {
   "cell_type": "markdown",
   "metadata": {},
   "source": [
    "# SummaryA `record` has components that are the parameters used to create an objectTo create an object we use the operator `new` followed by the arguments of therecord components in the same order.To interact with an object, we are using methods that are functions that youcall on an object using the operator `.`.A Record defines methods to access the value of a component, and also`toString()` to get the textual representation of an object and`equals()` to test if two objects are equals."
   ]
  }
 ],
 "metadata": {
  "kernelspec": {
   "display_name": "Java",
   "language": "java",
   "name": "java"
  },
  "language_info": {
   "codemirror_mode": "java",
   "file_extension": ".jshell",
   "mimetype": "text/x-java-source",
   "name": "Java",
   "pygments_lexer": "java",
   "version": "15-ea+3-62"
  }
 },
 "nbformat": 4,
 "nbformat_minor": 2
}
